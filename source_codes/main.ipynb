{
 "cells": [
  {
   "cell_type": "markdown",
   "id": "ae9e0e01",
   "metadata": {},
   "source": [
    "<div style=\"text-align: left; background-color:#1ED760; font-family:Times New Roman; color:#191414; padding: 12px; line-height:1.25;border-radius:1px; margin-bottom: 0em; text-align: center; font-size: 40px;border-style: solid;border-color: #1DB954;\"><strong>LAB 01: TRỰC QUAN HÓA DỮ LIỆU VỚI PYTHON</strong></div>\n",
    "<div style=\"text-align: left; background-color:#FFFFFF; font-family: Times New Roman; color:black; padding: 12px; line-height:1.25;border-radius:1px; margin-bottom: 0em; text-align: center; font-size: 18px\"><strong>| CSC10108 – TRỰC QUAN HÓA DỮ LIỆU - NHÓM 16 |<strong></div>"
   ]
  },
  {
   "attachments": {},
   "cell_type": "markdown",
   "id": "dc222d72",
   "metadata": {},
   "source": [
    "<a id=\"top\"></a>\n",
    "<div class=\"list-group\" id=\"list-tab\" role=\"tablist\">\n",
    "    <h3 style=\"text-align: left; background-color: #1ED760; font-family:Times New Roman; color: white; padding: 14px; line-height: 1; border-radius:10px\"><b>Thông tin thành viên nhóm</b></h3>\n",
    "\n",
    "   *  Trần Huỳnh Hương         - 20120099\n",
    "\n",
    "   * Nguyễn Dương Tuấn Phương  - 20120166\n",
    "    \n",
    "   * Trần Hoài Thiện           - 20120195\n",
    "        \n",
    "   * Trần Thị Mỹ Trinh         - 20120224\n",
    "\n",
    "   * Nguyễn Phương Anh         - 20120247"
   ]
  },
  {
   "cell_type": "markdown",
   "id": "5ab980d0",
   "metadata": {},
   "source": [
    "<a id=\"top\"></a>\n",
    "<div class=\"list-group\" id=\"list-tab\" role=\"tablist\">\n",
    "    <h3 style=\"text-align: left; background-color: #1ED760; font-family:Times New Roman; color: white; padding: 14px; line-height: 1; border-radius:10px\"><b>Mục lục 📝</b></h3>\n",
    "    \n",
    "   * A. Thu thập dữ liệu\n",
    "        \n",
    "   * B. Khám phá dữ liệu\n",
    "\n",
    "   * C. Khám phá mối quan hệ trong dữ liệu"
   ]
  },
  {
   "cell_type": "markdown",
   "id": "8a59575c",
   "metadata": {},
   "source": [
    "<div style=\"text-align: left; background-color:#ACA224; font-family:Arial; color:white; padding: 12px; line-height:1.25;border-radius:1px; margin-bottom: 0em; text-align: center; font-size: 30px;border-style: solid;border-color: black;\">A. THU THẬP DỮ LIỆU</div>"
   ]
  },
  {
   "cell_type": "markdown",
   "id": "03bc7a93",
   "metadata": {},
   "source": [
    "<div style=\"text-align: left; background-color:#FFFFFF; font-family: Times New Roman; color:black; padding: 12px; line-height:1.25;border-radius:1px; margin-bottom: 0em; text-align: center; font-size: 20px\" > <strong>Tập dữ liệu được chọn: Spotify Top 10000 Streamed Songs<strong> </div> "
   ]
  },
  {
   "attachments": {},
   "cell_type": "markdown",
   "id": "cb017251",
   "metadata": {},
   "source": [
    "### <span style='color:#2B9C15'>1. Ngữ cảnh, câu chuyện gì khiến nhóm sinh viên thực hiện việc tìm kiếm dữ liệu?</span>"
   ]
  },
  {
   "cell_type": "markdown",
   "id": "82b6fe3e",
   "metadata": {},
   "source": [
    "<div style=\"border-radius:10px;border:#0C6A86 solid;padding: 15px;background-color:#ebfae8;font-size:110%;text-align:left\">\n",
    "Spotify là một nền tảng, dịch vụ cung cấp nhạc, podcast và video kỹ thuật số cho phép người dùng truy cập hàng triệu bài hát và các nội dung khác của các nghệ sĩ trên khắp thế giới. Để tìm hiểu về những bài hát, bản nhạc thường xuyên được người dùng nghe, nhóm đã tìm kiếm tập dữ liệu phân tích hơn 10000 bản nhạc được nghe nhiều nhất trên nên tảng Spotify. "
   ]
  },
  {
   "attachments": {},
   "cell_type": "markdown",
   "id": "7a1de00a",
   "metadata": {},
   "source": [
    "### <span style='color:#2B9C15'>2. Dữ liệu mà nhóm sinh viên là về chủ đề gì và được lấy từ nguồn nào?</span>"
   ]
  },
  {
   "attachments": {},
   "cell_type": "markdown",
   "id": "ff37b7e0",
   "metadata": {},
   "source": [
    "<div style=\"border-radius:10px;border:#0C6A86 solid;padding: 15px;background-color:#ebfae8;font-size:110%;text-align:left\">\n",
    "    Tập dữ liệu mà nhóm tìm kiếm thuộc về chủ đề âm nhạc, được tổng hợp trên web và tích lũy tất cả các số liệu phát trực tuyến của từng nghệ sĩ và các bài hát tương ứng của họ. \n",
    "    </br>\n",
    "    Nhóm đã thực hiện tìm kiếm tập dữ liệu trên Kaggle: <a href='https://www.kaggle.com/datasets/rakkesharv/spotify-top-10000-streamed-songs?fbclid=IwAR0I5mLsdM0TxUdUDcqc5WV_9w5dTSpb7lkBGhMev45ywErhkgbY9hX24vs'> Spotify Top 10000 Streamed Songs </a>\n",
    "</div>"
   ]
  },
  {
   "attachments": {},
   "cell_type": "markdown",
   "id": "8300ee8f",
   "metadata": {},
   "source": [
    "### <span style='color:#2B9C15'>3. Người ta có cho phép sử dụng dữ liệu như thế này hay không?</span>"
   ]
  },
  {
   "cell_type": "markdown",
   "id": "8780b39e",
   "metadata": {},
   "source": [
    "<div style=\"border-radius:10px;border:#0C6A86 solid;padding: 15px;background-color:#ebfae8;font-size:110%;text-align:left\">\n",
    "    Sản phẩm: Spotify Top 10000 Streamed Songs của tác giả Rakkesh Aravind G được đăng công khai trên trang web Kaggle. Và dữ liệu này có License là CC0 1.0 Universal (CC0 1.0) Public Domain Dedication. Thế nên ta được quyền sử dụng tập dữ liệu này với mọi mục đích như: sao chép, sửa đổi, phân phối và thực hiện tác phẩm, ngay cả với mục đích thương mại,.. mà không cần xin phép. "
   ]
  },
  {
   "attachments": {},
   "cell_type": "markdown",
   "id": "d82bf325",
   "metadata": {},
   "source": [
    "### <span style='color:#2B9C15'>4. Người ta đã thu thập dữ liệu này như thế nào? Phương pháp thực hiện là gì?</span>"
   ]
  },
  {
   "cell_type": "markdown",
   "id": "bc0aadd2",
   "metadata": {},
   "source": [
    "<div style=\"border-radius:10px;border:#0C6A86 solid;padding: 15px;background-color:#ebfae8;font-size:110%;text-align:left\">\n",
    "    Dữ liệu này được thu thập thông qua trang web của Sportify - một dịch vụ cung cấp nhạc, podcast và video kỹ thuật số. Phương pháp thực hiện là Web scraping - một quá trình sử dụng bots (các phần mềm máy tính thực hiện các tác vụ tự động) để trích xuất dữ liệu và nội dung từ các website. Những dữ liệu thu thập được sau đó được lưu thành các định dạng hữu ích như bảng tính hoặc được truy xuất bằng API để phục vụ cho mục đích của người sử dụng. Cụ thể ở tập dữ liệu này, tác giả đã sử dụng ngôn ngữ Python và thư viện hỗ trợ là BeautifulSoup để có thể thu thập dữ liệu. "
   ]
  },
  {
   "cell_type": "markdown",
   "id": "3b88333f",
   "metadata": {},
   "source": [
    "<div style=\"text-align: left; background-color:#ACA224; font-family:Arial; color:white; padding: 12px; line-height:1.25;border-radius:1px; margin-bottom: 0em; text-align: center; font-size: 30px;border-style: solid;border-color: black;\">B. KHÁM PHÁ DỮ LIỆU</div>"
   ]
  },
  {
   "attachments": {},
   "cell_type": "markdown",
   "id": "825cf105",
   "metadata": {},
   "source": [
    "👉 Đầu tiên ta import các thư viện cần thiết:"
   ]
  },
  {
   "cell_type": "code",
   "execution_count": 171,
   "id": "da8395a2",
   "metadata": {},
   "outputs": [],
   "source": [
    "import numpy as np\n",
    "import pandas as pd\n",
    "import seaborn as sns\n",
    "import matplotlib.pyplot as plt"
   ]
  },
  {
   "attachments": {},
   "cell_type": "markdown",
   "id": "bf8cca98",
   "metadata": {},
   "source": [
    "👉 Tiếp theo, ta đọc file `\"Spotify_final_dataset.csv\"` vào dataframe `song_df` và in ra 5 dòng đầu tiên của dataframe."
   ]
  },
  {
   "cell_type": "code",
   "execution_count": 172,
   "id": "f4571815",
   "metadata": {},
   "outputs": [
    {
     "data": {
      "text/html": [
       "<div>\n",
       "<style scoped>\n",
       "    .dataframe tbody tr th:only-of-type {\n",
       "        vertical-align: middle;\n",
       "    }\n",
       "\n",
       "    .dataframe tbody tr th {\n",
       "        vertical-align: top;\n",
       "    }\n",
       "\n",
       "    .dataframe thead th {\n",
       "        text-align: right;\n",
       "    }\n",
       "</style>\n",
       "<table border=\"1\" class=\"dataframe\">\n",
       "  <thead>\n",
       "    <tr style=\"text-align: right;\">\n",
       "      <th></th>\n",
       "      <th>Position</th>\n",
       "      <th>Artist Name</th>\n",
       "      <th>Song Name</th>\n",
       "      <th>Days</th>\n",
       "      <th>Top 10 (xTimes)</th>\n",
       "      <th>Peak Position</th>\n",
       "      <th>Peak Position (xTimes)</th>\n",
       "      <th>Peak Streams</th>\n",
       "      <th>Total Streams</th>\n",
       "    </tr>\n",
       "  </thead>\n",
       "  <tbody>\n",
       "    <tr>\n",
       "      <th>0</th>\n",
       "      <td>1</td>\n",
       "      <td>Post Malone</td>\n",
       "      <td>Sunflower  SpiderMan: Into the SpiderVerse</td>\n",
       "      <td>1506</td>\n",
       "      <td>302.0</td>\n",
       "      <td>1</td>\n",
       "      <td>(x29)</td>\n",
       "      <td>2118242</td>\n",
       "      <td>883369738</td>\n",
       "    </tr>\n",
       "    <tr>\n",
       "      <th>1</th>\n",
       "      <td>2</td>\n",
       "      <td>Juice WRLD</td>\n",
       "      <td>Lucid Dreams</td>\n",
       "      <td>1673</td>\n",
       "      <td>178.0</td>\n",
       "      <td>1</td>\n",
       "      <td>(x20)</td>\n",
       "      <td>2127668</td>\n",
       "      <td>864832399</td>\n",
       "    </tr>\n",
       "    <tr>\n",
       "      <th>2</th>\n",
       "      <td>3</td>\n",
       "      <td>Lil Uzi Vert</td>\n",
       "      <td>XO TOUR Llif3</td>\n",
       "      <td>1853</td>\n",
       "      <td>212.0</td>\n",
       "      <td>1</td>\n",
       "      <td>(x4)</td>\n",
       "      <td>1660502</td>\n",
       "      <td>781153024</td>\n",
       "    </tr>\n",
       "    <tr>\n",
       "      <th>3</th>\n",
       "      <td>4</td>\n",
       "      <td>J. Cole</td>\n",
       "      <td>No Role Modelz</td>\n",
       "      <td>2547</td>\n",
       "      <td>6.0</td>\n",
       "      <td>7</td>\n",
       "      <td>0</td>\n",
       "      <td>659366</td>\n",
       "      <td>734857487</td>\n",
       "    </tr>\n",
       "    <tr>\n",
       "      <th>4</th>\n",
       "      <td>5</td>\n",
       "      <td>Post Malone</td>\n",
       "      <td>rockstar</td>\n",
       "      <td>1223</td>\n",
       "      <td>186.0</td>\n",
       "      <td>1</td>\n",
       "      <td>(x124)</td>\n",
       "      <td>2905678</td>\n",
       "      <td>718865961</td>\n",
       "    </tr>\n",
       "  </tbody>\n",
       "</table>\n",
       "</div>"
      ],
      "text/plain": [
       "   Position    Artist Name                                   Song Name  Days  \\\n",
       "0         1   Post Malone   Sunflower  SpiderMan: Into the SpiderVerse  1506   \n",
       "1         2    Juice WRLD                                 Lucid Dreams  1673   \n",
       "2         3  Lil Uzi Vert                                XO TOUR Llif3  1853   \n",
       "3         4       J. Cole                               No Role Modelz  2547   \n",
       "4         5   Post Malone                                     rockstar  1223   \n",
       "\n",
       "   Top 10 (xTimes)  Peak Position Peak Position (xTimes)  Peak Streams  \\\n",
       "0            302.0              1                  (x29)       2118242   \n",
       "1            178.0              1                  (x20)       2127668   \n",
       "2            212.0              1                   (x4)       1660502   \n",
       "3              6.0              7                      0        659366   \n",
       "4            186.0              1                 (x124)       2905678   \n",
       "\n",
       "   Total Streams  \n",
       "0      883369738  \n",
       "1      864832399  \n",
       "2      781153024  \n",
       "3      734857487  \n",
       "4      718865961  "
      ]
     },
     "execution_count": 172,
     "metadata": {},
     "output_type": "execute_result"
    }
   ],
   "source": [
    "song_df = pd.read_csv('../datasets/Spotify_final_dataset.csv')\n",
    "song_df.head()"
   ]
  },
  {
   "attachments": {},
   "cell_type": "markdown",
   "id": "0ce67489",
   "metadata": {},
   "source": [
    "👉 Tính số dòng và số cột:"
   ]
  },
  {
   "cell_type": "code",
   "execution_count": 173,
   "id": "d955e589",
   "metadata": {},
   "outputs": [
    {
     "name": "stdout",
     "output_type": "stream",
     "text": [
      "Number of rows:  11084\n",
      "Number of columns:  9\n"
     ]
    }
   ],
   "source": [
    "print('Number of rows: ', song_df.shape[0])\n",
    "print('Number of columns: ', song_df.shape[1])"
   ]
  },
  {
   "attachments": {},
   "cell_type": "markdown",
   "id": "177be2e7",
   "metadata": {},
   "source": [
    "### <span style='color:#2B9C15'>1. Mỗi dòng có ý nghĩa gì? Có vấn đề các dòng có ý nghĩa khác nhau không?</span>"
   ]
  },
  {
   "cell_type": "code",
   "execution_count": null,
   "id": "fe92729b",
   "metadata": {},
   "outputs": [],
   "source": []
  },
  {
   "attachments": {},
   "cell_type": "markdown",
   "id": "b439d0f7",
   "metadata": {},
   "source": [
    "### <span style='color:#2B9C15'>2. Mỗi cột có ý nghĩa gì?</span>"
   ]
  },
  {
   "cell_type": "code",
   "execution_count": null,
   "id": "12585157",
   "metadata": {},
   "outputs": [],
   "source": []
  },
  {
   "attachments": {},
   "cell_type": "markdown",
   "id": "3a71c6e6",
   "metadata": {},
   "source": [
    "### <span style='color:#2B9C15'>3. Mỗi cột hiện đang có kiểu dữ liệu gì? Có cột nào có kiểu dữ liệu chưa phù hợp để có thể xử lý tiếp hay không?</span>"
   ]
  },
  {
   "attachments": {},
   "cell_type": "markdown",
   "id": "1a2c5052",
   "metadata": {},
   "source": [
    "👉 Ta sử dụng phương thức `dtypes` trên dataframe `song_df` để xem kiểu dữ liệu của mỗi cột:"
   ]
  },
  {
   "cell_type": "code",
   "execution_count": 174,
   "id": "cd8f8897",
   "metadata": {},
   "outputs": [
    {
     "data": {
      "text/plain": [
       "Position                    int64\n",
       "Artist Name                object\n",
       "Song Name                  object\n",
       "Days                        int64\n",
       "Top 10 (xTimes)           float64\n",
       "Peak Position               int64\n",
       "Peak Position (xTimes)     object\n",
       "Peak Streams                int64\n",
       "Total Streams               int64\n",
       "dtype: object"
      ]
     },
     "execution_count": 174,
     "metadata": {},
     "output_type": "execute_result"
    }
   ],
   "source": [
    "col_dtype = song_df.dtypes\n",
    "col_dtype"
   ]
  },
  {
   "attachments": {},
   "cell_type": "markdown",
   "id": "1ff0cc57",
   "metadata": {},
   "source": [
    "**💡 Nhận xét:** Dựa vào kết quả trên ta thấy rằng:\n",
    "- Các cột `Artist Name`, `Song Name` có kiểu dữ liệu là `object`\n",
    "- Các cột `Position`, `Days`, `Peak Position`, `Peak Streams`, `Total Streams` có kiểu dữ liệu là `int`\n",
    "- Cột `Top 10 (xTimes)`, `Peak Position (xTimes)` đang ở định dạng chưa phù hợp, ta cần chuyển về kiểu dữ liệu `int` nên cần phải tiền xử lý ở giai đoạn này."
   ]
  },
  {
   "attachments": {},
   "cell_type": "markdown",
   "id": "8968cd38",
   "metadata": {},
   "source": [
    "👉 Thay đổi kiểu dữ liệu cho phù hợp cho hai cột `Top 10 (xTimes)`, `Peak Position (xTimes)`:\n",
    "- `Top 10 (xTimes)` là số lần bài hát đó lọt vào Top 10 và có đơn vị là xTimes, nên kiểu dữ liệu phù hợp là `int`.\n",
    "- `Peak Position (xTimes)` là số lần bài hát đó đạt được hạng cao nhất và có đơn vị là xTimes, nên kiểu dữ liệu phù là `int`.\n",
    "</br>\n",
    "Vì bài hát đã đạt được Peak Position nào đó, nên trong trường hợp này `Peak Position (xTimes)` không thể bằng 0 và ít nhất phải bằng 1 vì bài hát đã từng đạt được vị trí cao nhất trong một khoảng thời gian nào đó.\n",
    "</br>\n",
    "Do không có các thông tin cụ thể hay cột dữ liệu nào có thể suy dẫn để biết được bài hát đó có bao nhiêu lần đạt Peak nên nhóm chúng em quyết định cột `Peak Position (xTimes)` có giá trị 0 sẽ thay bằng 1."
   ]
  },
  {
   "cell_type": "code",
   "execution_count": 175,
   "id": "ae7e8cd9",
   "metadata": {},
   "outputs": [
    {
     "data": {
      "text/html": [
       "<div>\n",
       "<style scoped>\n",
       "    .dataframe tbody tr th:only-of-type {\n",
       "        vertical-align: middle;\n",
       "    }\n",
       "\n",
       "    .dataframe tbody tr th {\n",
       "        vertical-align: top;\n",
       "    }\n",
       "\n",
       "    .dataframe thead th {\n",
       "        text-align: right;\n",
       "    }\n",
       "</style>\n",
       "<table border=\"1\" class=\"dataframe\">\n",
       "  <thead>\n",
       "    <tr style=\"text-align: right;\">\n",
       "      <th></th>\n",
       "      <th>Position</th>\n",
       "      <th>Artist Name</th>\n",
       "      <th>Song Name</th>\n",
       "      <th>Days</th>\n",
       "      <th>Top 10 (xTimes)</th>\n",
       "      <th>Peak Position</th>\n",
       "      <th>Peak Position (xTimes)</th>\n",
       "      <th>Peak Streams</th>\n",
       "      <th>Total Streams</th>\n",
       "    </tr>\n",
       "  </thead>\n",
       "  <tbody>\n",
       "    <tr>\n",
       "      <th>0</th>\n",
       "      <td>1</td>\n",
       "      <td>Post Malone</td>\n",
       "      <td>Sunflower  SpiderMan: Into the SpiderVerse</td>\n",
       "      <td>1506</td>\n",
       "      <td>302</td>\n",
       "      <td>1</td>\n",
       "      <td>29</td>\n",
       "      <td>2118242</td>\n",
       "      <td>883369738</td>\n",
       "    </tr>\n",
       "    <tr>\n",
       "      <th>1</th>\n",
       "      <td>2</td>\n",
       "      <td>Juice WRLD</td>\n",
       "      <td>Lucid Dreams</td>\n",
       "      <td>1673</td>\n",
       "      <td>178</td>\n",
       "      <td>1</td>\n",
       "      <td>20</td>\n",
       "      <td>2127668</td>\n",
       "      <td>864832399</td>\n",
       "    </tr>\n",
       "    <tr>\n",
       "      <th>2</th>\n",
       "      <td>3</td>\n",
       "      <td>Lil Uzi Vert</td>\n",
       "      <td>XO TOUR Llif3</td>\n",
       "      <td>1853</td>\n",
       "      <td>212</td>\n",
       "      <td>1</td>\n",
       "      <td>4</td>\n",
       "      <td>1660502</td>\n",
       "      <td>781153024</td>\n",
       "    </tr>\n",
       "    <tr>\n",
       "      <th>3</th>\n",
       "      <td>4</td>\n",
       "      <td>J. Cole</td>\n",
       "      <td>No Role Modelz</td>\n",
       "      <td>2547</td>\n",
       "      <td>6</td>\n",
       "      <td>7</td>\n",
       "      <td>1</td>\n",
       "      <td>659366</td>\n",
       "      <td>734857487</td>\n",
       "    </tr>\n",
       "    <tr>\n",
       "      <th>4</th>\n",
       "      <td>5</td>\n",
       "      <td>Post Malone</td>\n",
       "      <td>rockstar</td>\n",
       "      <td>1223</td>\n",
       "      <td>186</td>\n",
       "      <td>1</td>\n",
       "      <td>124</td>\n",
       "      <td>2905678</td>\n",
       "      <td>718865961</td>\n",
       "    </tr>\n",
       "  </tbody>\n",
       "</table>\n",
       "</div>"
      ],
      "text/plain": [
       "   Position    Artist Name                                   Song Name  Days  \\\n",
       "0         1   Post Malone   Sunflower  SpiderMan: Into the SpiderVerse  1506   \n",
       "1         2    Juice WRLD                                 Lucid Dreams  1673   \n",
       "2         3  Lil Uzi Vert                                XO TOUR Llif3  1853   \n",
       "3         4       J. Cole                               No Role Modelz  2547   \n",
       "4         5   Post Malone                                     rockstar  1223   \n",
       "\n",
       "   Top 10 (xTimes)  Peak Position  Peak Position (xTimes)  Peak Streams  \\\n",
       "0              302              1                      29       2118242   \n",
       "1              178              1                      20       2127668   \n",
       "2              212              1                       4       1660502   \n",
       "3                6              7                       1        659366   \n",
       "4              186              1                     124       2905678   \n",
       "\n",
       "   Total Streams  \n",
       "0      883369738  \n",
       "1      864832399  \n",
       "2      781153024  \n",
       "3      734857487  \n",
       "4      718865961  "
      ]
     },
     "execution_count": 175,
     "metadata": {},
     "output_type": "execute_result"
    }
   ],
   "source": [
    "#Xử lý dữ liệu cho cột Top 10 (xTimes):\n",
    "song_df['Top 10 (xTimes)'] = song_df['Top 10 (xTimes)'].astype('int64')\n",
    "\n",
    "\n",
    "#Xử lý dữ liệu cho cột Peak Position (xTimes):\n",
    "list_peakPositionTimes = song_df['Peak Position (xTimes)'].values.tolist()\n",
    "temp = []\n",
    "for i in list_peakPositionTimes:\n",
    "    if (i == '0'):\n",
    "        temp.append('1')\n",
    "    else:\n",
    "        temp.append(i[2:len(i)-1])\n",
    "\n",
    "song_df['Peak Position (xTimes)'] = temp\n",
    "song_df['Peak Position (xTimes)'] = song_df['Peak Position (xTimes)'].astype('int64')\n",
    "\n",
    "song_df.head()"
   ]
  },
  {
   "attachments": {},
   "cell_type": "markdown",
   "id": "ee636b3e",
   "metadata": {},
   "source": [
    "👉 Sau khi thay đổi kiểu dữ liệu, ta có kết quả:"
   ]
  },
  {
   "cell_type": "code",
   "execution_count": 176,
   "id": "43583db8",
   "metadata": {},
   "outputs": [
    {
     "data": {
      "text/plain": [
       "Position                   int64\n",
       "Artist Name               object\n",
       "Song Name                 object\n",
       "Days                       int64\n",
       "Top 10 (xTimes)            int64\n",
       "Peak Position              int64\n",
       "Peak Position (xTimes)     int64\n",
       "Peak Streams               int64\n",
       "Total Streams              int64\n",
       "dtype: object"
      ]
     },
     "execution_count": 176,
     "metadata": {},
     "output_type": "execute_result"
    }
   ],
   "source": [
    "song_df.dtypes"
   ]
  },
  {
   "attachments": {},
   "cell_type": "markdown",
   "id": "9d150be0",
   "metadata": {},
   "source": [
    "### <span style='color:#2B9C15'>4. Với mỗi cột, các giá trị (dạng số, dạng phân loại) được phân bố như thế nào?</span>"
   ]
  },
  {
   "attachments": {},
   "cell_type": "markdown",
   "id": "146e41d9",
   "metadata": {},
   "source": [
    "👉 Số giá trị null (giá trị thiếu) trong từng cột của DataFrame `song_df`:"
   ]
  },
  {
   "cell_type": "code",
   "execution_count": 177,
   "id": "379f69f0",
   "metadata": {},
   "outputs": [
    {
     "data": {
      "text/plain": [
       "Position                  0\n",
       "Artist Name               0\n",
       "Song Name                 4\n",
       "Days                      0\n",
       "Top 10 (xTimes)           0\n",
       "Peak Position             0\n",
       "Peak Position (xTimes)    0\n",
       "Peak Streams              0\n",
       "Total Streams             0\n",
       "dtype: int64"
      ]
     },
     "execution_count": 177,
     "metadata": {},
     "output_type": "execute_result"
    }
   ],
   "source": [
    "song_df.isna().sum()"
   ]
  },
  {
   "attachments": {},
   "cell_type": "markdown",
   "id": "e59a66a6",
   "metadata": {},
   "source": [
    "**💡 Nhận xét:** Dựa vào kết quả trên ta thấy rằng:\n",
    "- Các cột `Days`, `Top 10 (xTimes)`, `Peak Position`,  `Peak Position (xTimes)`, `Peak Streams`, `Total Streams` là dạng số và không tồn tại giá trị thiếu.\n",
    "- Các cột `Artist Name`, `Song Name` là hai cột dữ liệu dạng phân loại, các giá trị trong cột thường không có thứ tự hay mức độ, và được biểu diễn bằng chuỗi ký tự.\n",
    "    + Cột Song Name có 4 giá trị thiếu."
   ]
  },
  {
   "attachments": {},
   "cell_type": "markdown",
   "id": "a32c679d",
   "metadata": {},
   "source": [
    "👉 Xem xét sự phân bố giá trị của các cột dữ liệu dạng số:"
   ]
  },
  {
   "cell_type": "code",
   "execution_count": 178,
   "id": "b89c11b9",
   "metadata": {},
   "outputs": [
    {
     "data": {
      "text/html": [
       "<div>\n",
       "<style scoped>\n",
       "    .dataframe tbody tr th:only-of-type {\n",
       "        vertical-align: middle;\n",
       "    }\n",
       "\n",
       "    .dataframe tbody tr th {\n",
       "        vertical-align: top;\n",
       "    }\n",
       "\n",
       "    .dataframe thead th {\n",
       "        text-align: right;\n",
       "    }\n",
       "</style>\n",
       "<table border=\"1\" class=\"dataframe\">\n",
       "  <thead>\n",
       "    <tr style=\"text-align: right;\">\n",
       "      <th></th>\n",
       "      <th>Days</th>\n",
       "      <th>Top 10 (xTimes)</th>\n",
       "      <th>Peak Position</th>\n",
       "      <th>Peak Position (xTimes)</th>\n",
       "      <th>Peak Streams</th>\n",
       "      <th>Total Streams</th>\n",
       "    </tr>\n",
       "  </thead>\n",
       "  <tbody>\n",
       "    <tr>\n",
       "      <th>count</th>\n",
       "      <td>11084.000000</td>\n",
       "      <td>11084.000000</td>\n",
       "      <td>11084.000000</td>\n",
       "      <td>11084.000000</td>\n",
       "      <td>1.108400e+04</td>\n",
       "      <td>1.108400e+04</td>\n",
       "    </tr>\n",
       "    <tr>\n",
       "      <th>mean</th>\n",
       "      <td>53.366925</td>\n",
       "      <td>2.713641</td>\n",
       "      <td>83.070101</td>\n",
       "      <td>1.343107</td>\n",
       "      <td>5.529469e+05</td>\n",
       "      <td>1.830891e+07</td>\n",
       "    </tr>\n",
       "    <tr>\n",
       "      <th>std</th>\n",
       "      <td>129.750902</td>\n",
       "      <td>15.604130</td>\n",
       "      <td>58.932049</td>\n",
       "      <td>3.505917</td>\n",
       "      <td>6.282936e+05</td>\n",
       "      <td>5.219383e+07</td>\n",
       "    </tr>\n",
       "    <tr>\n",
       "      <th>min</th>\n",
       "      <td>1.000000</td>\n",
       "      <td>0.000000</td>\n",
       "      <td>1.000000</td>\n",
       "      <td>1.000000</td>\n",
       "      <td>4.432300e+04</td>\n",
       "      <td>4.432300e+04</td>\n",
       "    </tr>\n",
       "    <tr>\n",
       "      <th>25%</th>\n",
       "      <td>2.000000</td>\n",
       "      <td>0.000000</td>\n",
       "      <td>29.000000</td>\n",
       "      <td>1.000000</td>\n",
       "      <td>2.431595e+05</td>\n",
       "      <td>3.824272e+05</td>\n",
       "    </tr>\n",
       "    <tr>\n",
       "      <th>50%</th>\n",
       "      <td>7.000000</td>\n",
       "      <td>0.000000</td>\n",
       "      <td>75.000000</td>\n",
       "      <td>1.000000</td>\n",
       "      <td>3.505885e+05</td>\n",
       "      <td>1.704876e+06</td>\n",
       "    </tr>\n",
       "    <tr>\n",
       "      <th>75%</th>\n",
       "      <td>39.000000</td>\n",
       "      <td>0.000000</td>\n",
       "      <td>132.000000</td>\n",
       "      <td>1.000000</td>\n",
       "      <td>5.963382e+05</td>\n",
       "      <td>1.078333e+07</td>\n",
       "    </tr>\n",
       "    <tr>\n",
       "      <th>max</th>\n",
       "      <td>2547.000000</td>\n",
       "      <td>302.000000</td>\n",
       "      <td>200.000000</td>\n",
       "      <td>124.000000</td>\n",
       "      <td>7.786096e+06</td>\n",
       "      <td>8.833697e+08</td>\n",
       "    </tr>\n",
       "  </tbody>\n",
       "</table>\n",
       "</div>"
      ],
      "text/plain": [
       "               Days  Top 10 (xTimes)  Peak Position  Peak Position (xTimes)  \\\n",
       "count  11084.000000     11084.000000   11084.000000            11084.000000   \n",
       "mean      53.366925         2.713641      83.070101                1.343107   \n",
       "std      129.750902        15.604130      58.932049                3.505917   \n",
       "min        1.000000         0.000000       1.000000                1.000000   \n",
       "25%        2.000000         0.000000      29.000000                1.000000   \n",
       "50%        7.000000         0.000000      75.000000                1.000000   \n",
       "75%       39.000000         0.000000     132.000000                1.000000   \n",
       "max     2547.000000       302.000000     200.000000              124.000000   \n",
       "\n",
       "       Peak Streams  Total Streams  \n",
       "count  1.108400e+04   1.108400e+04  \n",
       "mean   5.529469e+05   1.830891e+07  \n",
       "std    6.282936e+05   5.219383e+07  \n",
       "min    4.432300e+04   4.432300e+04  \n",
       "25%    2.431595e+05   3.824272e+05  \n",
       "50%    3.505885e+05   1.704876e+06  \n",
       "75%    5.963382e+05   1.078333e+07  \n",
       "max    7.786096e+06   8.833697e+08  "
      ]
     },
     "execution_count": 178,
     "metadata": {},
     "output_type": "execute_result"
    }
   ],
   "source": [
    "numeric = {\n",
    "    'Days': song_df['Days'], \n",
    "    'Top 10 (xTimes)': song_df['Top 10 (xTimes)'], \n",
    "    'Peak Position': song_df['Peak Position'],\n",
    "    'Peak Position (xTimes)': song_df['Peak Position (xTimes)'],\n",
    "    'Peak Streams': song_df['Peak Streams'],\n",
    "    'Total Streams': song_df['Total Streams']\n",
    "}\n",
    "\n",
    "df = pd.DataFrame(numeric)\n",
    "cols = ['Days', 'Top 10 (xTimes)', 'Peak Position', 'Peak Position (xTimes)', 'Peak Streams', 'Total Streams']\n",
    "df[cols].describe()"
   ]
  },
  {
   "cell_type": "code",
   "execution_count": 179,
   "id": "9539242f",
   "metadata": {},
   "outputs": [
    {
     "data": {
      "image/png": "[encoded data removed]",
      "text/plain": [
       "<Figure size 1500x1500 with 9 Axes>"
      ]
     },
     "metadata": {},
     "output_type": "display_data"
    }
   ],
   "source": [
    "# Biểu đồ thể hiện sự phân bố của các giá trị\n",
    "song_df.hist(bins = 50, figsize = (15,15))\n",
    "plt.show()"
   ]
  },
  {
   "attachments": {},
   "cell_type": "markdown",
   "id": "8b94c020",
   "metadata": {},
   "source": [
    "👉 Xem xét sự phân bố giá trị của các cột dữ liệu dạng phân loại:"
   ]
  },
  {
   "cell_type": "code",
   "execution_count": 180,
   "id": "0c0f224c",
   "metadata": {},
   "outputs": [
    {
     "data": {
      "text/html": [
       "<div>\n",
       "<style scoped>\n",
       "    .dataframe tbody tr th:only-of-type {\n",
       "        vertical-align: middle;\n",
       "    }\n",
       "\n",
       "    .dataframe tbody tr th {\n",
       "        vertical-align: top;\n",
       "    }\n",
       "\n",
       "    .dataframe thead th {\n",
       "        text-align: right;\n",
       "    }\n",
       "</style>\n",
       "<table border=\"1\" class=\"dataframe\">\n",
       "  <thead>\n",
       "    <tr style=\"text-align: right;\">\n",
       "      <th></th>\n",
       "      <th>Artist Name</th>\n",
       "      <th>Song Name</th>\n",
       "    </tr>\n",
       "  </thead>\n",
       "  <tbody>\n",
       "    <tr>\n",
       "      <th>count</th>\n",
       "      <td>11084</td>\n",
       "      <td>11080</td>\n",
       "    </tr>\n",
       "    <tr>\n",
       "      <th>unique</th>\n",
       "      <td>1612</td>\n",
       "      <td>9992</td>\n",
       "    </tr>\n",
       "    <tr>\n",
       "      <th>top</th>\n",
       "      <td>Drake</td>\n",
       "      <td>Intro</td>\n",
       "    </tr>\n",
       "    <tr>\n",
       "      <th>freq</th>\n",
       "      <td>208</td>\n",
       "      <td>12</td>\n",
       "    </tr>\n",
       "  </tbody>\n",
       "</table>\n",
       "</div>"
      ],
      "text/plain": [
       "       Artist Name Song Name\n",
       "count        11084     11080\n",
       "unique        1612      9992\n",
       "top         Drake      Intro\n",
       "freq           208        12"
      ]
     },
     "execution_count": 180,
     "metadata": {},
     "output_type": "execute_result"
    }
   ],
   "source": [
    "category = {\n",
    "    'Artist Name': song_df['Artist Name'], \n",
    "    'Song Name': song_df['Song Name']\n",
    "}\n",
    "\n",
    "df2 = pd.DataFrame(category)\n",
    "cols2 = ['Artist Name', 'Song Name']\n",
    "df2[cols2].describe()"
   ]
  },
  {
   "attachments": {},
   "cell_type": "markdown",
   "id": "c29cbe99",
   "metadata": {},
   "source": [
    "**💡 Nhận xét:** Dựa vào kết quả trên ta thấy rằng:\n",
    "- Cột Song Name có 4 giá trị thiếu, vì tỷ lệ giá trị thiếu là 0.036% không đáng kể nên việc xóa đi các dòng này sẽ không ảnh hưởng đến tính chính xác của trực quan hóa dữ liệu.\n",
    "- Có 1612 nghệ sĩ và 9992 bài hát độc nhất góp mặt trong dữ liệu thống kê này.\n",
    "- `Drake` là nghệ sĩ có nhiều bài hát xuất hiện nhất trong Top 10000 bài hát (208 bài).\n",
    "- `Intro` là tựa đề có số lần được nghệ sĩ chọn làm title song nhiều nhất (12 lần)."
   ]
  },
  {
   "attachments": {},
   "cell_type": "markdown",
   "id": "a40124b8",
   "metadata": {},
   "source": [
    "### <span style='color:#2B9C15'>5. Có cần phải tiền xử lý dữ liệu hay không và nếu có thì nhóm sinh viên cần phải xử lý như thế nào?</span>"
   ]
  },
  {
   "attachments": {},
   "cell_type": "markdown",
   "id": "f8ba95b6",
   "metadata": {},
   "source": [
    "**💡 Nhận xét:** Phải thực hiện tiền xử lý bởi vì ..."
   ]
  },
  {
   "attachments": {},
   "cell_type": "markdown",
   "id": "f32cc926",
   "metadata": {},
   "source": [
    "👉 Ta kiểm tra xem có dòng nào bị lặp dữ liệu hay không"
   ]
  },
  {
   "cell_type": "code",
   "execution_count": 181,
   "id": "949858b1",
   "metadata": {},
   "outputs": [
    {
     "data": {
      "text/plain": [
       "False"
      ]
     },
     "execution_count": 181,
     "metadata": {},
     "output_type": "execute_result"
    }
   ],
   "source": [
    "have_duplicates = song_df.duplicated().any()\n",
    "have_duplicates"
   ]
  },
  {
   "attachments": {},
   "cell_type": "markdown",
   "id": "e73b055a",
   "metadata": {},
   "source": [
    "**💡 Nhận xét:** Sau khi kiểm tra ta có thể thấy rằng dữ liệu không có các dòng bị lặp"
   ]
  },
  {
   "attachments": {},
   "cell_type": "markdown",
   "id": "48756cc5",
   "metadata": {},
   "source": [
    "👉 Kiểm tra có giá trị bị thiếu trong dữ liệu hay không"
   ]
  },
  {
   "cell_type": "code",
   "execution_count": 182,
   "id": "ac440677",
   "metadata": {},
   "outputs": [
    {
     "data": {
      "text/plain": [
       "Position                  0\n",
       "Artist Name               0\n",
       "Song Name                 4\n",
       "Days                      0\n",
       "Top 10 (xTimes)           0\n",
       "Peak Position             0\n",
       "Peak Position (xTimes)    0\n",
       "Peak Streams              0\n",
       "Total Streams             0\n",
       "dtype: int64"
      ]
     },
     "execution_count": 182,
     "metadata": {},
     "output_type": "execute_result"
    }
   ],
   "source": [
    "song_df.isnull().sum()"
   ]
  },
  {
   "attachments": {},
   "cell_type": "markdown",
   "id": "25d65e2d",
   "metadata": {},
   "source": [
    "**💡 Nhận xét:** Có thể thấy ở thuộc tính `Song Name` bị thiếu dữ liệu. Do vậy việc tiền xử lý dữ liệu là cần thiết cho tập dữ liệu này."
   ]
  },
  {
   "attachments": {},
   "cell_type": "markdown",
   "id": "2c6dff15",
   "metadata": {},
   "source": [
    "👉 Tiền xử lý dữ liệu: Xoá dòng dữ liệu bị trống thuộc tính `Song Name`"
   ]
  },
  {
   "cell_type": "code",
   "execution_count": 183,
   "id": "539f2f94",
   "metadata": {},
   "outputs": [
    {
     "data": {
      "text/plain": [
       "Position                  0\n",
       "Artist Name               0\n",
       "Song Name                 0\n",
       "Days                      0\n",
       "Top 10 (xTimes)           0\n",
       "Peak Position             0\n",
       "Peak Position (xTimes)    0\n",
       "Peak Streams              0\n",
       "Total Streams             0\n",
       "dtype: int64"
      ]
     },
     "execution_count": 183,
     "metadata": {},
     "output_type": "execute_result"
    }
   ],
   "source": [
    "song_df = song_df.dropna()\n",
    "song_df.isnull().sum()"
   ]
  },
  {
   "cell_type": "code",
   "execution_count": 184,
   "id": "19565da2",
   "metadata": {},
   "outputs": [],
   "source": [
    "#Xuất file dữ liệu mới sau khi tiền xử lý\n",
    "song_df.to_csv('../datasets/new_dataset.csv', index=False)"
   ]
  },
  {
   "cell_type": "code",
   "execution_count": 185,
   "id": "c6906444",
   "metadata": {},
   "outputs": [
    {
     "data": {
      "text/html": [
       "<div>\n",
       "<style scoped>\n",
       "    .dataframe tbody tr th:only-of-type {\n",
       "        vertical-align: middle;\n",
       "    }\n",
       "\n",
       "    .dataframe tbody tr th {\n",
       "        vertical-align: top;\n",
       "    }\n",
       "\n",
       "    .dataframe thead th {\n",
       "        text-align: right;\n",
       "    }\n",
       "</style>\n",
       "<table border=\"1\" class=\"dataframe\">\n",
       "  <thead>\n",
       "    <tr style=\"text-align: right;\">\n",
       "      <th></th>\n",
       "      <th>Position</th>\n",
       "      <th>Artist Name</th>\n",
       "      <th>Song Name</th>\n",
       "      <th>Days</th>\n",
       "      <th>Top 10 (xTimes)</th>\n",
       "      <th>Peak Position</th>\n",
       "      <th>Peak Position (xTimes)</th>\n",
       "      <th>Peak Streams</th>\n",
       "      <th>Total Streams</th>\n",
       "    </tr>\n",
       "  </thead>\n",
       "  <tbody>\n",
       "    <tr>\n",
       "      <th>0</th>\n",
       "      <td>1</td>\n",
       "      <td>Post Malone</td>\n",
       "      <td>Sunflower  SpiderMan: Into the SpiderVerse</td>\n",
       "      <td>1506</td>\n",
       "      <td>302</td>\n",
       "      <td>1</td>\n",
       "      <td>29</td>\n",
       "      <td>2118242</td>\n",
       "      <td>883369738</td>\n",
       "    </tr>\n",
       "    <tr>\n",
       "      <th>1</th>\n",
       "      <td>2</td>\n",
       "      <td>Juice WRLD</td>\n",
       "      <td>Lucid Dreams</td>\n",
       "      <td>1673</td>\n",
       "      <td>178</td>\n",
       "      <td>1</td>\n",
       "      <td>20</td>\n",
       "      <td>2127668</td>\n",
       "      <td>864832399</td>\n",
       "    </tr>\n",
       "    <tr>\n",
       "      <th>2</th>\n",
       "      <td>3</td>\n",
       "      <td>Lil Uzi Vert</td>\n",
       "      <td>XO TOUR Llif3</td>\n",
       "      <td>1853</td>\n",
       "      <td>212</td>\n",
       "      <td>1</td>\n",
       "      <td>4</td>\n",
       "      <td>1660502</td>\n",
       "      <td>781153024</td>\n",
       "    </tr>\n",
       "    <tr>\n",
       "      <th>3</th>\n",
       "      <td>4</td>\n",
       "      <td>J. Cole</td>\n",
       "      <td>No Role Modelz</td>\n",
       "      <td>2547</td>\n",
       "      <td>6</td>\n",
       "      <td>7</td>\n",
       "      <td>1</td>\n",
       "      <td>659366</td>\n",
       "      <td>734857487</td>\n",
       "    </tr>\n",
       "    <tr>\n",
       "      <th>4</th>\n",
       "      <td>5</td>\n",
       "      <td>Post Malone</td>\n",
       "      <td>rockstar</td>\n",
       "      <td>1223</td>\n",
       "      <td>186</td>\n",
       "      <td>1</td>\n",
       "      <td>124</td>\n",
       "      <td>2905678</td>\n",
       "      <td>718865961</td>\n",
       "    </tr>\n",
       "    <tr>\n",
       "      <th>...</th>\n",
       "      <td>...</td>\n",
       "      <td>...</td>\n",
       "      <td>...</td>\n",
       "      <td>...</td>\n",
       "      <td>...</td>\n",
       "      <td>...</td>\n",
       "      <td>...</td>\n",
       "      <td>...</td>\n",
       "      <td>...</td>\n",
       "    </tr>\n",
       "    <tr>\n",
       "      <th>11075</th>\n",
       "      <td>11080</td>\n",
       "      <td>The Band Perry</td>\n",
       "      <td>If I Die Young</td>\n",
       "      <td>1</td>\n",
       "      <td>0</td>\n",
       "      <td>184</td>\n",
       "      <td>1</td>\n",
       "      <td>51321</td>\n",
       "      <td>51321</td>\n",
       "    </tr>\n",
       "    <tr>\n",
       "      <th>11076</th>\n",
       "      <td>11081</td>\n",
       "      <td>Justin Timberlake</td>\n",
       "      <td>Not a Bad Thing</td>\n",
       "      <td>1</td>\n",
       "      <td>0</td>\n",
       "      <td>196</td>\n",
       "      <td>1</td>\n",
       "      <td>49512</td>\n",
       "      <td>49512</td>\n",
       "    </tr>\n",
       "    <tr>\n",
       "      <th>11077</th>\n",
       "      <td>11082</td>\n",
       "      <td>Mike WiLL Made</td>\n",
       "      <td>It  23</td>\n",
       "      <td>1</td>\n",
       "      <td>0</td>\n",
       "      <td>167</td>\n",
       "      <td>1</td>\n",
       "      <td>46547</td>\n",
       "      <td>46547</td>\n",
       "    </tr>\n",
       "    <tr>\n",
       "      <th>11078</th>\n",
       "      <td>11083</td>\n",
       "      <td>The Vamps</td>\n",
       "      <td>Somebody To You</td>\n",
       "      <td>1</td>\n",
       "      <td>0</td>\n",
       "      <td>200</td>\n",
       "      <td>1</td>\n",
       "      <td>44962</td>\n",
       "      <td>44962</td>\n",
       "    </tr>\n",
       "    <tr>\n",
       "      <th>11079</th>\n",
       "      <td>11084</td>\n",
       "      <td>JAY</td>\n",
       "      <td>Z  Holy Grail</td>\n",
       "      <td>1</td>\n",
       "      <td>0</td>\n",
       "      <td>184</td>\n",
       "      <td>1</td>\n",
       "      <td>44323</td>\n",
       "      <td>44323</td>\n",
       "    </tr>\n",
       "  </tbody>\n",
       "</table>\n",
       "<p>11080 rows × 9 columns</p>\n",
       "</div>"
      ],
      "text/plain": [
       "       Position         Artist Name  \\\n",
       "0             1        Post Malone    \n",
       "1             2         Juice WRLD    \n",
       "2             3       Lil Uzi Vert    \n",
       "3             4            J. Cole    \n",
       "4             5        Post Malone    \n",
       "...         ...                 ...   \n",
       "11075     11080     The Band Perry    \n",
       "11076     11081  Justin Timberlake    \n",
       "11077     11082      Mike WiLL Made   \n",
       "11078     11083          The Vamps    \n",
       "11079     11084                 JAY   \n",
       "\n",
       "                                        Song Name  Days  Top 10 (xTimes)  \\\n",
       "0      Sunflower  SpiderMan: Into the SpiderVerse  1506              302   \n",
       "1                                    Lucid Dreams  1673              178   \n",
       "2                                   XO TOUR Llif3  1853              212   \n",
       "3                                  No Role Modelz  2547                6   \n",
       "4                                        rockstar  1223              186   \n",
       "...                                           ...   ...              ...   \n",
       "11075                              If I Die Young     1                0   \n",
       "11076                             Not a Bad Thing     1                0   \n",
       "11077                                      It  23     1                0   \n",
       "11078                             Somebody To You     1                0   \n",
       "11079                               Z  Holy Grail     1                0   \n",
       "\n",
       "       Peak Position  Peak Position (xTimes)  Peak Streams  Total Streams  \n",
       "0                  1                      29       2118242      883369738  \n",
       "1                  1                      20       2127668      864832399  \n",
       "2                  1                       4       1660502      781153024  \n",
       "3                  7                       1        659366      734857487  \n",
       "4                  1                     124       2905678      718865961  \n",
       "...              ...                     ...           ...            ...  \n",
       "11075            184                       1         51321          51321  \n",
       "11076            196                       1         49512          49512  \n",
       "11077            167                       1         46547          46547  \n",
       "11078            200                       1         44962          44962  \n",
       "11079            184                       1         44323          44323  \n",
       "\n",
       "[11080 rows x 9 columns]"
      ]
     },
     "execution_count": 185,
     "metadata": {},
     "output_type": "execute_result"
    }
   ],
   "source": [
    "#Đọc lại file dữ liệu mới \n",
    "song_df = pd.read_csv('../datasets/new_dataset.csv')\n",
    "song_df"
   ]
  },
  {
   "cell_type": "markdown",
   "id": "c0f88c1b",
   "metadata": {},
   "source": [
    "<div style=\"text-align: left; background-color:#ACA224; font-family:Arial; color:white; padding: 12px; line-height:1.25;border-radius:1px; margin-bottom: 0em; text-align: center; font-size: 30px;border-style: solid;border-color: black;\">C. KHÁM PHÁ MỐI QUAN HỆ TRONG DỮ LIỆU</div>"
   ]
  },
  {
   "cell_type": "code",
   "execution_count": null,
   "id": "5f8ffe7a",
   "metadata": {},
   "outputs": [],
   "source": []
  }
 ],
 "metadata": {
  "kernelspec": {
   "display_name": "Python 3 (ipykernel)",
   "language": "python",
   "name": "python3"
  },
  "language_info": {
   "codemirror_mode": {
    "name": "ipython",
    "version": 3
   },
   "file_extension": ".py",
   "mimetype": "text/x-python",
   "name": "python",
   "nbconvert_exporter": "python",
   "pygments_lexer": "ipython3",
   "version": "3.10.1"
  }
 },
 "nbformat": 4,
 "nbformat_minor": 5
}
