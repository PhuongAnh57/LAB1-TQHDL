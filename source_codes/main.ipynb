{
 "cells": [
  {
   "cell_type": "markdown",
   "id": "ae9e0e01",
   "metadata": {},
   "source": [
    "<div style=\"text-align: left; background-color:#1ED760; font-family:Times New Roman; color:#191414; padding: 12px; line-height:1.25;border-radius:1px; margin-bottom: 0em; text-align: center; font-size: 40px;border-style: solid;border-color: #1DB954;\"><strong>LAB 01: TRỰC QUAN HÓA DỮ LIỆU VỚI PYTHON</strong></div>\n",
    "<div style=\"text-align: left; background-color:#FFFFFF; font-family: Times New Roman; color:black; padding: 12px; line-height:1.25;border-radius:1px; margin-bottom: 0em; text-align: center; font-size: 18px\"><strong>| CSC10108 – TRỰC QUAN HÓA DỮ LIỆU - NHÓM 16 |<strong></div>"
   ]
  },
  {
   "cell_type": "markdown",
   "id": "dc222d72",
   "metadata": {},
   "source": [
    "<a id=\"top\"></a>\n",
    "<div class=\"list-group\" id=\"list-tab\" role=\"tablist\">\n",
    "    <h3 style=\"text-align: left; background-color: #1ED760; font-family:Times New Roman; color: white; padding: 14px; line-height: 1; border-radius:10px\"><b>Thông tin thành viên nhóm</b></h3>\n",
    "\n",
    "   *  Trần Huỳnh Hương         - 20120099\n",
    "\n",
    "   * Nguyễn Dương Tuấn Phương  - 20120166\n",
    "    \n",
    "   * Trần Hoài Thiện           - 20120195\n",
    "        \n",
    "   * Trần Thị Mỹ Trinh         - 20120224\n",
    "\n",
    "   * Nguyễn Phương Anh         - 20120247"
   ]
  },
  {
   "cell_type": "markdown",
   "id": "5ab980d0",
   "metadata": {},
   "source": [
    "<a id=\"top\"></a>\n",
    "<div class=\"list-group\" id=\"list-tab\" role=\"tablist\">\n",
    "    <h3 style=\"text-align: left; background-color: #1ED760; font-family:Times New Roman; color: white; padding: 14px; line-height: 1; border-radius:10px\"><b>Mục lục 📝</b></h3>\n",
    "    \n",
    "   * A. Thu thập dữ liệu\n",
    "        \n",
    "   * B. Khám phá dữ liệu\n",
    "\n",
    "   * C. Khám phá mối quan hệ trong dữ liệu"
   ]
  },
  {
   "cell_type": "markdown",
   "id": "8a59575c",
   "metadata": {},
   "source": [
    "<div style=\"text-align: left; background-color:#ACA224; font-family:Arial; color:white; padding: 12px; line-height:1.25;border-radius:1px; margin-bottom: 0em; text-align: center; font-size: 30px;border-style: solid;border-color: black;\">A. THU THẬP DỮ LIỆU</div>"
   ]
  },
  {
   "cell_type": "markdown",
   "id": "03bc7a93",
   "metadata": {},
   "source": [
    "<div style=\"text-align: left; background-color:#FFFFFF; font-family: Times New Roman; color:black; padding: 12px; line-height:1.25;border-radius:1px; margin-bottom: 0em; text-align: center; font-size: 20px\" > <strong>Tập dữ liệu được chọn: Spotify Top 10000 Streamed Songs<strong> </div> "
   ]
  },
  {
   "cell_type": "markdown",
   "id": "cb017251",
   "metadata": {},
   "source": [
    "### <span style='color:#2B9C15'>1. Ngữ cảnh, câu chuyện gì khiến nhóm sinh viên thực hiện việc tìm kiếm dữ liệu?</span>"
   ]
  },
  {
   "cell_type": "markdown",
   "id": "82b6fe3e",
   "metadata": {},
   "source": [
    "<div style=\"border-radius:10px;border:#0C6A86 solid;padding: 15px;background-color:#ebfae8;font-size:110%;text-align:left\">\n",
    "Spotify là một nền tảng, dịch vụ cung cấp nhạc, podcast và video kỹ thuật số cho phép người dùng truy cập hàng triệu bài hát và các nội dung khác của các nghệ sĩ trên khắp thế giới. Để tìm hiểu về những bài hát, bản nhạc thường xuyên được người dùng nghe, nhóm đã tìm kiếm tập dữ liệu phân tích hơn 10000 bản nhạc được nghe nhiều nhất trên nên tảng Spotify. "
   ]
  },
  {
   "cell_type": "markdown",
   "id": "7a1de00a",
   "metadata": {},
   "source": [
    "### <span style='color:#2B9C15'>2. Dữ liệu mà nhóm sinh viên là về chủ đề gì và được lấy từ nguồn nào?</span>"
   ]
  },
  {
   "cell_type": "markdown",
   "id": "ff37b7e0",
   "metadata": {},
   "source": [
    "<div style=\"border-radius:10px;border:#0C6A86 solid;padding: 15px;background-color:#ebfae8;font-size:110%;text-align:left\">\n",
    "    Tập dữ liệu mà nhóm tìm kiếm thuộc về chủ đề âm nhạc, được tổng hợp trên web và tích lũy tất cả các số liệu phát trực tuyến của từng nghệ sĩ và các bài hát tương ứng của họ. \n",
    "    </br>\n",
    "    Nhóm đã thực hiện tìm kiếm tập dữ liệu trên Kaggle: <a href='https://www.kaggle.com/datasets/rakkesharv/spotify-top-10000-streamed-songs?fbclid=IwAR0I5mLsdM0TxUdUDcqc5WV_9w5dTSpb7lkBGhMev45ywErhkgbY9hX24vs'> Spotify Top 10000 Streamed Songs </a>\n",
    "</div>"
   ]
  },
  {
   "cell_type": "markdown",
   "id": "8300ee8f",
   "metadata": {},
   "source": [
    "### <span style='color:#2B9C15'>3. Người ta có cho phép sử dụng dữ liệu như thế này hay không?</span>"
   ]
  },
  {
   "cell_type": "markdown",
   "id": "8780b39e",
   "metadata": {},
   "source": [
    "<div style=\"border-radius:10px;border:#0C6A86 solid;padding: 15px;background-color:#ebfae8;font-size:110%;text-align:left\">\n",
    "    Sản phẩm: Spotify Top 10000 Streamed Songs của tác giả Rakkesh Aravind G được đăng công khai trên trang web Kaggle. Và dữ liệu này có License là CC0 1.0 Universal (CC0 1.0) Public Domain Dedication. Thế nên ta được quyền sử dụng tập dữ liệu này với mọi mục đích như: sao chép, sửa đổi, phân phối và thực hiện tác phẩm, ngay cả với mục đích thương mại,.. mà không cần xin phép. "
   ]
  },
  {
   "cell_type": "markdown",
   "id": "d82bf325",
   "metadata": {},
   "source": [
    "### <span style='color:#2B9C15'>4. Người ta đã thu thập dữ liệu này như thế nào? Phương pháp thực hiện là gì?</span>"
   ]
  },
  {
   "cell_type": "markdown",
   "id": "bc0aadd2",
   "metadata": {},
   "source": [
    "<div style=\"border-radius:10px;border:#0C6A86 solid;padding: 15px;background-color:#ebfae8;font-size:110%;text-align:left\">\n",
    "    Dữ liệu này được thu thập thông qua trang web của Sportify - một dịch vụ cung cấp nhạc, podcast và video kỹ thuật số. Phương pháp thực hiện là Web scraping - một quá trình sử dụng bots (các phần mềm máy tính thực hiện các tác vụ tự động) để trích xuất dữ liệu và nội dung từ các website. Những dữ liệu thu thập được sau đó được lưu thành các định dạng hữu ích như bảng tính hoặc được truy xuất bằng API để phục vụ cho mục đích của người sử dụng. Cụ thể ở tập dữ liệu này, tác giả đã sử dụng ngôn ngữ Python và thư viện hỗ trợ là BeautifulSoup để có thể thu thập dữ liệu. "
   ]
  },
  {
   "cell_type": "markdown",
   "id": "3b88333f",
   "metadata": {},
   "source": [
    "<div style=\"text-align: left; background-color:#ACA224; font-family:Arial; color:white; padding: 12px; line-height:1.25;border-radius:1px; margin-bottom: 0em; text-align: center; font-size: 30px;border-style: solid;border-color: black;\">B. KHÁM PHÁ DỮ LIỆU</div>"
   ]
  },
  {
   "cell_type": "markdown",
   "id": "825cf105",
   "metadata": {},
   "source": [
    "👉 Đầu tiên ta import các thư viện cần thiết:"
   ]
  },
  {
   "cell_type": "code",
   "execution_count": null,
   "id": "da8395a2",
   "metadata": {},
   "outputs": [],
   "source": [
    "import numpy as np\n",
    "import pandas as pd\n",
    "import seaborn as sns\n",
    "import matplotlib.pyplot as plt\n",
    "\n",
    "import plotly.graph_objects as go\n",
    "from plotly.offline import iplot\n",
    "from plotly.subplots import make_subplots\n",
    "\n",
    "import plotly.express as px"
   ]
  },
  {
   "cell_type": "markdown",
   "id": "bf8cca98",
   "metadata": {},
   "source": [
    "👉 Tiếp theo, ta đọc file `\"Spotify_final_dataset.csv\"` vào dataframe `song_df` và in ra 5 dòng đầu tiên của dataframe."
   ]
  },
  {
   "cell_type": "code",
   "execution_count": null,
   "id": "f4571815",
   "metadata": {},
   "outputs": [],
   "source": [
    "song_df = pd.read_csv('../datasets/Spotify_final_dataset.csv')\n",
    "song_df.head()"
   ]
  },
  {
   "cell_type": "markdown",
   "id": "0ce67489",
   "metadata": {},
   "source": [
    "👉 Tính số dòng và số cột:"
   ]
  },
  {
   "cell_type": "code",
   "execution_count": null,
   "id": "d955e589",
   "metadata": {},
   "outputs": [],
   "source": [
    "print('Number of rows: ', song_df.shape[0])\n",
    "print('Number of columns: ', song_df.shape[1])"
   ]
  },
  {
   "cell_type": "markdown",
   "id": "177be2e7",
   "metadata": {},
   "source": [
    "### <span style='color:#2B9C15'>1. Mỗi dòng có ý nghĩa gì? Có vấn đề các dòng có ý nghĩa khác nhau không?</span>"
   ]
  },
  {
   "cell_type": "markdown",
   "id": "e31d6ae3",
   "metadata": {},
   "source": [
    "- Mỗi dòng trong bộ dữ liệu đại diện cho một bài hát và những thông tin liên quan đến bài hát đó thông qua từng cột dữ liệu. Ý nghĩa về các cột dữ liệu sẽ được giải thích rõ hơn ở phần 2.\n",
    "- Tất cả các dòng đều có ý nghĩa giống nhau."
   ]
  },
  {
   "cell_type": "markdown",
   "id": "b439d0f7",
   "metadata": {},
   "source": [
    "### <span style='color:#2B9C15'>2. Mỗi cột có ý nghĩa gì?</span>"
   ]
  },
  {
   "cell_type": "markdown",
   "id": "f9384629",
   "metadata": {},
   "source": [
    "- *Position* - Xếp hạng của bài hát\n",
    "- *Artist Name* - Tên nghệ sĩ\n",
    "- *Song Name* - Tên bài hát\n",
    "- *Days* - Số ngày kể từ khi phát hành bài hát\n",
    "- *Top 10 (xTimes)* - Số lần nằm trong top 10\n",
    "- *Peak Position* - Vị trí cao nhất đạt được\n",
    "- *Peak Position (xTimes)* - Số lần đạt được vị trí cao nhất\n",
    "- *Peak Streams* - Tổng số lượt stream trong lúc đạt vị trí cao nhất\n",
    "- *Total Stream* - Tổng số lượt stream của bài hát."
   ]
  },
  {
   "cell_type": "markdown",
   "id": "3a71c6e6",
   "metadata": {},
   "source": [
    "### <span style='color:#2B9C15'>3. Mỗi cột hiện đang có kiểu dữ liệu gì? Có cột nào có kiểu dữ liệu chưa phù hợp để có thể xử lý tiếp hay không?</span>"
   ]
  },
  {
   "cell_type": "markdown",
   "id": "1a2c5052",
   "metadata": {},
   "source": [
    "👉 Ta sử dụng phương thức `dtypes` trên dataframe `song_df` để xem kiểu dữ liệu của mỗi cột:"
   ]
  },
  {
   "cell_type": "code",
   "execution_count": null,
   "id": "cd8f8897",
   "metadata": {},
   "outputs": [],
   "source": [
    "col_dtype = song_df.dtypes\n",
    "col_dtype"
   ]
  },
  {
   "cell_type": "markdown",
   "id": "1ff0cc57",
   "metadata": {},
   "source": [
    "**💡 Nhận xét:** Dựa vào kết quả trên ta thấy rằng:\n",
    "- Các cột `Artist Name`, `Song Name` có kiểu dữ liệu là `object`\n",
    "- Các cột `Position`, `Days`, `Peak Position`, `Peak Streams`, `Total Streams` có kiểu dữ liệu là `int`\n",
    "- Cột `Top 10 (xTimes)`, `Peak Position (xTimes)` đang ở định dạng chưa phù hợp, ta cần chuyển về kiểu dữ liệu `int` nên cần phải tiền xử lý ở giai đoạn này."
   ]
  },
  {
   "cell_type": "markdown",
   "id": "8968cd38",
   "metadata": {},
   "source": [
    "👉 Thay đổi kiểu dữ liệu cho phù hợp cho hai cột `Top 10 (xTimes)`, `Peak Position (xTimes)`:\n",
    "- `Top 10 (xTimes)` là số lần bài hát đó lọt vào Top 10 và có đơn vị là xTimes, nên kiểu dữ liệu phù hợp là `int`.\n",
    "- `Peak Position (xTimes)` là số lần bài hát đó đạt được hạng cao nhất và có đơn vị là xTimes, nên kiểu dữ liệu phù là `int`.\n",
    "</br>\n",
    "Vì bài hát đã đạt được Peak Position nào đó, nên trong trường hợp này `Peak Position (xTimes)` không thể bằng 0 và ít nhất phải bằng 1 vì bài hát đã từng đạt được vị trí cao nhất trong một khoảng thời gian nào đó.\n",
    "</br>\n",
    "Do không có các thông tin cụ thể hay cột dữ liệu nào có thể suy dẫn để biết được bài hát đó có bao nhiêu lần đạt Peak nên nhóm chúng em quyết định cột `Peak Position (xTimes)` có giá trị 0 sẽ thay bằng 1."
   ]
  },
  {
   "cell_type": "code",
   "execution_count": null,
   "id": "ae7e8cd9",
   "metadata": {},
   "outputs": [],
   "source": [
    "#Xử lý dữ liệu cho cột Top 10 (xTimes):\n",
    "song_df['Top 10 (xTimes)'] = song_df['Top 10 (xTimes)'].astype('int64')\n",
    "\n",
    "\n",
    "#Xử lý dữ liệu cho cột Peak Position (xTimes):\n",
    "list_peakPositionTimes = song_df['Peak Position (xTimes)'].values.tolist()\n",
    "temp = []\n",
    "for i in list_peakPositionTimes:\n",
    "    if (i == '0'):\n",
    "        temp.append('1')\n",
    "    else:\n",
    "        temp.append(i[2:len(i)-1])\n",
    "\n",
    "song_df['Peak Position (xTimes)'] = temp\n",
    "song_df['Peak Position (xTimes)'] = song_df['Peak Position (xTimes)'].astype('int64')\n",
    "\n",
    "song_df.head()"
   ]
  },
  {
   "cell_type": "markdown",
   "id": "ee636b3e",
   "metadata": {},
   "source": [
    "👉 Sau khi thay đổi kiểu dữ liệu, ta có kết quả:"
   ]
  },
  {
   "cell_type": "code",
   "execution_count": null,
   "id": "43583db8",
   "metadata": {},
   "outputs": [],
   "source": [
    "song_df.dtypes"
   ]
  },
  {
   "cell_type": "markdown",
   "id": "9d150be0",
   "metadata": {},
   "source": [
    "### <span style='color:#2B9C15'>4. Với mỗi cột, các giá trị (dạng số, dạng phân loại) được phân bố như thế nào?</span>"
   ]
  },
  {
   "cell_type": "markdown",
   "id": "146e41d9",
   "metadata": {},
   "source": [
    "👉 Số giá trị null (giá trị thiếu) trong từng cột của DataFrame `song_df`:"
   ]
  },
  {
   "cell_type": "code",
   "execution_count": null,
   "id": "379f69f0",
   "metadata": {},
   "outputs": [],
   "source": [
    "song_df.isna().sum()"
   ]
  },
  {
   "cell_type": "markdown",
   "id": "e59a66a6",
   "metadata": {},
   "source": [
    "**💡 Nhận xét:** Dựa vào kết quả trên ta thấy rằng:\n",
    "- Các cột `Days`, `Top 10 (xTimes)`, `Peak Position`,  `Peak Position (xTimes)`, `Peak Streams`, `Total Streams` là dạng số và không tồn tại giá trị thiếu.\n",
    "- Các cột `Artist Name`, `Song Name` là hai cột dữ liệu dạng phân loại, các giá trị trong cột thường không có thứ tự hay mức độ, và được biểu diễn bằng chuỗi ký tự.\n",
    "    + Cột Song Name có 4 giá trị thiếu."
   ]
  },
  {
   "cell_type": "markdown",
   "id": "a32c679d",
   "metadata": {},
   "source": [
    "👉 Xem xét sự phân bố giá trị của các cột dữ liệu dạng số:"
   ]
  },
  {
   "cell_type": "code",
   "execution_count": null,
   "id": "b89c11b9",
   "metadata": {},
   "outputs": [],
   "source": [
    "numeric = {\n",
    "    'Days': song_df['Days'], \n",
    "    'Top 10 (xTimes)': song_df['Top 10 (xTimes)'], \n",
    "    'Peak Position': song_df['Peak Position'],\n",
    "    'Peak Position (xTimes)': song_df['Peak Position (xTimes)'],\n",
    "    'Peak Streams': song_df['Peak Streams'],\n",
    "    'Total Streams': song_df['Total Streams']\n",
    "}\n",
    "\n",
    "df = pd.DataFrame(numeric)\n",
    "cols = ['Days', 'Top 10 (xTimes)', 'Peak Position', 'Peak Position (xTimes)', 'Peak Streams', 'Total Streams']\n",
    "df[cols].describe()"
   ]
  },
  {
   "cell_type": "code",
   "execution_count": null,
   "id": "9539242f",
   "metadata": {},
   "outputs": [],
   "source": [
    "# Biểu đồ thể hiện sự phân bố của các giá trị dạng số\n",
    "song_df.hist(bins = 50, figsize = (15,15))\n",
    "plt.show()"
   ]
  },
  {
   "cell_type": "markdown",
   "id": "8b94c020",
   "metadata": {},
   "source": [
    "👉 Xem xét sự phân bố giá trị của các cột dữ liệu dạng phân loại:"
   ]
  },
  {
   "cell_type": "code",
   "execution_count": null,
   "id": "0c0f224c",
   "metadata": {},
   "outputs": [],
   "source": [
    "category = {\n",
    "    'Artist Name': song_df['Artist Name'], \n",
    "    'Song Name': song_df['Song Name']\n",
    "}\n",
    "\n",
    "df2 = pd.DataFrame(category)\n",
    "cols2 = ['Artist Name', 'Song Name']\n",
    "df2[cols2].describe()"
   ]
  },
  {
   "cell_type": "markdown",
   "id": "c29cbe99",
   "metadata": {},
   "source": [
    "**💡 Nhận xét:** Dựa vào kết quả trên ta thấy rằng:\n",
    "- Cột Song Name có 4 giá trị thiếu, vì tỷ lệ giá trị thiếu là 0.036% không đáng kể nên việc xóa đi các dòng này sẽ không ảnh hưởng đến tính chính xác của trực quan hóa dữ liệu.\n",
    "- Có 1612 nghệ sĩ và 9992 bài hát độc nhất góp mặt trong dữ liệu thống kê này.\n",
    "- `Drake` là nghệ sĩ có nhiều bài hát xuất hiện nhất trong Top 10000 bài hát (208 bài).\n",
    "- `Intro` là tựa đề có số lần được nghệ sĩ chọn làm title song nhiều nhất (12 lần)."
   ]
  },
  {
   "cell_type": "markdown",
   "id": "a40124b8",
   "metadata": {},
   "source": [
    "### <span style='color:#2B9C15'>5. Có cần phải tiền xử lý dữ liệu hay không và nếu có thì nhóm sinh viên cần phải xử lý như thế nào?</span>"
   ]
  },
  {
   "cell_type": "markdown",
   "id": "f8ba95b6",
   "metadata": {},
   "source": [
    "**💡 Nhận xét:** Phải thực hiện tiền xử lý bởi vì ..."
   ]
  },
  {
   "cell_type": "markdown",
   "id": "f32cc926",
   "metadata": {},
   "source": [
    "👉 Ta kiểm tra xem có dòng nào bị lặp dữ liệu hay không"
   ]
  },
  {
   "cell_type": "code",
   "execution_count": null,
   "id": "949858b1",
   "metadata": {},
   "outputs": [],
   "source": [
    "have_duplicates = song_df.duplicated().any()\n",
    "have_duplicates"
   ]
  },
  {
   "cell_type": "markdown",
   "id": "e73b055a",
   "metadata": {},
   "source": [
    "**💡 Nhận xét:** Sau khi kiểm tra ta có thể thấy rằng dữ liệu không có các dòng bị lặp"
   ]
  },
  {
   "cell_type": "markdown",
   "id": "48756cc5",
   "metadata": {},
   "source": [
    "👉 Kiểm tra có giá trị bị thiếu trong dữ liệu hay không"
   ]
  },
  {
   "cell_type": "code",
   "execution_count": null,
   "id": "ac440677",
   "metadata": {},
   "outputs": [],
   "source": [
    "song_df.isnull().sum()"
   ]
  },
  {
   "cell_type": "markdown",
   "id": "25d65e2d",
   "metadata": {},
   "source": [
    "**💡 Nhận xét:** Có thể thấy ở thuộc tính `Song Name` bị thiếu dữ liệu. Do vậy việc tiền xử lý dữ liệu là cần thiết cho tập dữ liệu này."
   ]
  },
  {
   "cell_type": "markdown",
   "id": "2c6dff15",
   "metadata": {},
   "source": [
    "👉 Tiền xử lý dữ liệu: Xoá dòng dữ liệu bị trống thuộc tính `Song Name`"
   ]
  },
  {
   "cell_type": "code",
   "execution_count": null,
   "id": "539f2f94",
   "metadata": {},
   "outputs": [],
   "source": [
    "song_df = song_df.dropna()\n",
    "song_df.isnull().sum()"
   ]
  },
  {
   "cell_type": "code",
   "execution_count": null,
   "id": "19565da2",
   "metadata": {},
   "outputs": [],
   "source": [
    "#Xuất file dữ liệu mới sau khi tiền xử lý\n",
    "song_df.to_csv('../datasets/new_dataset.csv', index=False)"
   ]
  },
  {
   "cell_type": "code",
   "execution_count": null,
   "id": "c6906444",
   "metadata": {},
   "outputs": [],
   "source": [
    "#Đọc lại file dữ liệu mới \n",
    "song_df = pd.read_csv('../datasets/new_dataset.csv')\n",
    "song_df"
   ]
  },
  {
   "cell_type": "markdown",
   "id": "c0f88c1b",
   "metadata": {},
   "source": [
    "<div style=\"text-align: left; background-color:#ACA224; font-family:Arial; color:white; padding: 12px; line-height:1.25;border-radius:1px; margin-bottom: 0em; text-align: center; font-size: 30px;border-style: solid;border-color: black;\">C. KHÁM PHÁ MỐI QUAN HỆ TRONG DỮ LIỆU</div>"
   ]
  },
  {
   "cell_type": "markdown",
   "id": "c2a17517",
   "metadata": {},
   "source": [
    "### <span style='color:#2B9C15'>1. Quan hệ giữa hai trường dữ liệu: Days - Total Streams </span>"
   ]
  },
  {
   "cell_type": "code",
   "execution_count": null,
   "id": "68f237b1",
   "metadata": {},
   "outputs": [],
   "source": [
    "# Tính toán hệ số tương quan Pearson của Days và Total Streams\n",
    "corr_coef = song_df['Days'].corr(song_df['Total Streams'], method='pearson')\n",
    "print('Hệ số tương quan Pearson giữa Days và Total Streams:', corr_coef)"
   ]
  },
  {
   "cell_type": "markdown",
   "id": "b5e158aa",
   "metadata": {},
   "source": [
    "👉 Mối quan hệ giữa hai trường dữ liệu `Days` và `Total Streams`:\n",
    "- Từ giá trị của `corr_coef` gần bằng 1 và có giá trị dương, thì có thể kết luận rằng Days và Total Streams có mối quan hệ tương quan dương mạnh. Điều này có nghĩa là số ngày kể từ khi phát hành bài hát có ảnh hưởng đáng kể đến tổng số lượt stream của bài hát trên nền tảng Spotify. Bài hát phát hành càng lâu và trải qua quá trình quảng bá thì càng có nhiều người nghe và số lượt stream của bài hát sẽ càng tăng.\n",
    "\n",
    "👉 Chọn biểu đồ Scatterplot để thể hiện mối quan hệ giữa `Days` và `Total Streams`\n",
    "- Biểu đồ scatterplot phù hợp để thể hiện mối quan hệ tương quan giữa hai biến liên tục (Days và Total Streams).\n",
    "- Ngoài ra, scatterplot còn thể hiện một cách trực quan sự phân bố của dữ liệu.\n",
    "- Bên cạnh đó, biểu đồ scatterplot cũng rất hữu ích để phát hiện outlier hoặc data point ngoại lai."
   ]
  },
  {
   "cell_type": "code",
   "execution_count": null,
   "id": "abeeb9f5",
   "metadata": {},
   "outputs": [],
   "source": [
    "fig, ax = plt.subplots(figsize=(20, 9))\n",
    "sns.scatterplot(data=song_df, x=song_df['Days'], y=song_df['Total Streams'], color='red', ax=ax)\n",
    "sns.despine()\n",
    "\n",
    "ax.set_xlabel(\"Days\", fontsize=14)\n",
    "ax.set_ylabel(\"Total Streams\", fontsize=14)\n",
    "ax.set_title(\"Days - Total Streams\", fontsize=18)\n",
    "\n",
    "plt.show()"
   ]
  },
  {
   "cell_type": "markdown",
   "id": "ff778f3b",
   "metadata": {},
   "source": [
    "👉 Tuy nhiên, khi chúng ta có một tập dữ liệu quá lớn, dẫn đến việc biểu đồ có quá nhiều điểm dữ liệu (các chấm trên biểu đồ) chồng chất lên nhau khiến ta không thể quan sát và tìm ra mối quan hệ giữa các điểm. Đồng thời, nhìn vào biểu đồ trên, ta khó có thể xác định giá trị (x,y) của điểm dữ liệu.\n",
    "\n",
    "👉 Candlestick chart có thể khắc phục những hạn chế trên của biểu đồ Scatterplot:\n",
    "- Cũng như biểu đồ Scatterplot, biểu đồ nến cũng thể hiện sự phân bố dữ liệu của hai trường Days - Total Streams và các điểm ngoại lai.\n",
    "- Ngoài ra, biểu đồ nến cho phép ta biết giá trị chính xác của cặp (x,y) khi di chuyển vào điểm dữ liệu đó."
   ]
  },
  {
   "cell_type": "code",
   "execution_count": null,
   "id": "3b8d245f",
   "metadata": {},
   "outputs": [],
   "source": [
    "# Create a candlestick chart\n",
    "fig = go.Figure(data=[go.Candlestick(x=song_df['Days'],\n",
    "                open=song_df['Total Streams'], high=song_df['Total Streams'],\n",
    "                low=song_df['Total Streams'], close=song_df['Total Streams'])])\n",
    "\n",
    "fig.update_layout(\n",
    "    title='Days - Total Streams',\n",
    "    xaxis_title='Days',\n",
    "    yaxis_title='Total Streams'\n",
    ")\n",
    "iplot(fig)"
   ]
  },
  {
   "cell_type": "markdown",
   "id": "1d8601ff",
   "metadata": {},
   "source": [
    "👉 Ý nghĩa sau khi trực quan hai trường dữ liệu `Days` và `Total Streams`:\n",
    "- Người dùng có thể dễ dàng so sánh được tổng số stream của bài hát này đối với các bài hát khác dựa theo ngày phát hành:\n",
    "    + Nếu bài hát chỉ mới phát hành gần đây và có tổng stream cao, cho thấy rằng bài hát hợp thị hiếu và đang được công chúng rất yêu thích. Người dùng thường có xu hướng chọn nghe những bài hát phổ biến, do đó công ty sản xuất âm nhạc nên có những chiến lược quảng bá phù hợp với bài hát và nghệ sĩ để bài hát phổ biến đến công chúng hơn nữa.\n",
    "    + Nếu bài hát đã được phát hành trong một khoảng thời gian dài và có tổng lượng stream cao, thì có khả năng bài hát đó đã và đang rất được công chúng yêu thích hoặc có chất lượng tốt, người dùng có thể an tâm thưởng thức bài hát.\n",
    "    + Ngược lại, nếu bài hát mới chỉ được phát hành trong một vài ngày và không nhận được nhiều lượt stream, thì có thể cho thấy bài hát đang còn chưa nổi tiếng hoặc chưa được quảng bá đầy đủ đến với công chúng. Do đó, nhà sản xuất âm nhạc phải có chiến lược quảng bá bài hát phù hợp để bài hát có thể phổ biến rộng rãi với công chúng hơn.\n",
    "    + Nếu bài hát đã được phát hành trong khoảng thời gian dài mà tổng stream thấp, cho thấy bài hát không hợp thị hiếu của đa số người hoặc có chất lượng không tốt. Hầu hết những người nghe bài hát là những fan trung thành của nghệ sĩ đó, nên công chúng sẽ e ngại khi nhấn nghe những bài hát như vậy.\n",
    "\n",
    "    --> Số lượng stream và thời gian phát hành của bài hát có thể là các yếu tố quan trọng để đánh giá mức độ phổ biến và chất lượng của bài hát. \n",
    "- Số lượng stream giúp nghệ sĩ đánh giá được sự thành công của bài hát và hiểu rõ hơn về mức độ ảnh hưởng của bản thân trong cộng đồng âm nhạc. Đồng thời, thời gian phát hành bài hát cũng liên quan đến việc quảng bá và tiếp cận với khán giả. Nếu nghệ sĩ phát hành bài hát của mình tại một thời điểm thuận lợi, có thể giúp cho bài hát được chú ý hơn và có cơ hội đạt các giải thưởng vào cuối năm."
   ]
  },
  {
   "cell_type": "markdown",
   "id": "beff322a",
   "metadata": {},
   "source": [
    "### <span style='color:#2B9C15'>2. Quan hệ giữa ba trường dữ liệu: Days - Top 10 (xTimes) - Total Streams</span>"
   ]
  },
  {
   "cell_type": "markdown",
   "id": "19b2ee3f",
   "metadata": {},
   "source": [
    "👉 Mối quan hệ giữa ba trường dữ liệu `Days`, `Top 10 (xTimes)` và `Total Streams`:\n",
    "- Days và Total Streams có mối quan hệ tương quan dương mạnh. Điều này có nghĩa là số ngày kể từ khi phát hành bài hát có ảnh hưởng đáng kể đến tổng số lượt stream của bài hát trên nền tảng Spotify. Bài hát phát hành càng lâu và trải qua quá trình quảng bá thì càng có nhiều người nghe và số lượt stream của bài hát sẽ càng tăng.\n",
    "- Hai trường dữ liệu Top 10 (xTimes) và Total Streams có mối quan hệ với nhau là rất chặt chẽ. Nếu một bài hát nằm trong top 10 nhiều lần, thì có khả năng cao bài hát đó đã có nhiều lượt stream, và ngược lại, nếu một bài hát có nhiều lượt stream thì có khả năng cao bài hát đó sẽ được nhiều người yêu thích và xuất hiện trong top 10.\n",
    "\n",
    "--> Tuy nhiên, hai trường dữ liệu này không đồng nghĩa với nhau hoàn toàn, một bài hát có nhiều lượt stream không đảm bảo rằng nó sẽ nằm trong top 10, và ngược lại. Cũng như một bài hát phát hành lâu hon thì có tổng stream cao hơn bài có số ngày ít hơn. Để đánh giá được sự thành công và tầm ảnh hưởng của bài hát trên thị trường âm nhạc, cần phải kết hợp các trường dữ liệu này để có cái nhìn tổng quan và chính xác hơn.\n",
    "\n",
    "👉 Chọn biểu đồ Scatterplot để thể hiện mối quan hệ giữa `Days`, `Top 10 (xTimes)` và `Total Streams`:\n",
    "- Biểu đồ scatterplot phù hợp để thể hiện mối quan hệ tương quan giữa ba biến liên tục.\n",
    "- Ngoài ra, scatterplot còn thể hiện một cách trực quan sự phân bố của dữ liệu, có thể hiện màu sắc cho biến thứ 3, giúp người dùng dễ đánh giá và so sánh các điểm dữ liệu với nhau.\n",
    "- Bên cạnh đó, biểu đồ scatterplot cũng rất hữu ích để phát hiện outlier hoặc data point ngoại lai."
   ]
  },
  {
   "cell_type": "code",
   "execution_count": null,
   "id": "5a2ebeaa",
   "metadata": {},
   "outputs": [],
   "source": [
    "fig, ax = plt.subplots(figsize=(20, 9))\n",
    "sns.scatterplot(data=song_df, x=\"Days\", y=\"Top 10 (xTimes)\", hue=\"Total Streams\", palette=\"icefire\", ax=ax)\n",
    "sns.despine()\n",
    "\n",
    "ax.set_xlabel(\"Days\", fontsize=14)\n",
    "ax.set_ylabel(\"Top 10 (xTimes)\", fontsize=14)\n",
    "ax.set_title(\"Days - Top 10 (xTimes) - Total Streams\", fontsize=18)\n",
    "plt.show()"
   ]
  },
  {
   "cell_type": "markdown",
   "id": "c06c7c8e",
   "metadata": {},
   "source": [
    "👉 Những hạn chế của biểu đồ scatterplot:\n",
    "- Khi một tập dữ liệu quá lớn, dẫn đến việc biểu đồ có quá nhiều điểm dữ liệu (các chấm trên biểu đồ) chồng chất lên nhau khiến ta không thể quan sát và tìm ra mối quan hệ giữa các điểm.\n",
    "- Đồng thời, nhìn vào biểu đồ trên, ta khó có thể xác định giá trị (x,y) của điểm dữ liệu. Màu sắc thể hiện giá trị của Total Streams là một khoảng, ta cũng không thể xác định chính xác giá trị của tổng lượt stream.\n",
    "\n",
    "👉 Scatterplot 3D có thể khắc phục những hạn chế trên của biểu đồ Scatterplot:\n",
    "- Cũng như biểu đồ Scatterplot, biểu đồ 3D hiển thị sự phân bố của các điểm dữ liệu trong một không gian ba chiều, giúp người dùng dễ dàng nhận ra các mối quan hệ phức tạp giữa các biến số.\n",
    "- Ngoài ra, biểu đồ còn cho phép người dùng thấy được các điểm dữ liệu nằm ở đâu trong không gian và kiểm tra các giá trị (x,y,z) của từng biến số khi di chuyển vào điểm dữ liệu đó."
   ]
  },
  {
   "cell_type": "code",
   "execution_count": null,
   "id": "0202a416",
   "metadata": {},
   "outputs": [],
   "source": [
    "fig = px.scatter_3d(song_df, x='Days', y='Top 10 (xTimes)', z='Total Streams', color='Total Streams', size='Total Streams')\n",
    "\n",
    "fig.update_layout(margin=dict(l=0, r=0, b=0, t=0))\n",
    "fig.show()"
   ]
  },
  {
   "cell_type": "markdown",
   "id": "0e3d90a0",
   "metadata": {},
   "source": [
    "👉 Ý nghĩa sau khi trực quan ba trường dữ liệu `Days`, `Top 10 (xTimes)` và `Total Streams`:\n",
    "- Các thông tin về tổng số ngày phát hành, số lần lọt top 10 và tổng streams cũng có thể giúp người nghe nhạc và nghệ sĩ thấy được xu hướng và mẫu số trong thị trường âm nhạc:\n",
    "    + Nếu một bài hát đã được phát hành được một thời gian dài và vẫn tiếp tục lọt top 10 định kỳ, điều đó có thể cho thấy bài hát đang nắm giữ một vị trí khá vững chắc trong lòng khán giả.\n",
    "    + Số lần lọt top 10 và tổng streams cũng có thể giúp nghệ sĩ và công ty quản lý phát hiện ra những bài hát nổi bật và tìm cách để quảng bá và tiếp cận với khán giả rộng hơn.\n",
    "    + Tổng số ngày phát hành, số lần lọt top 10 và tổng streams cũng có thể được sử dụng để so sánh sự thành công của một bài hát hoặc nghệ sĩ với các đối thủ cạnh tranh hàng đầu khác trong ngành âm nhạc. Điều này có thể giúp nghệ sĩ và công ty quản lý xác định được những điểm mạnh và yếu của sản phẩm âm nhạc của mình, từ đó tìm cách để phát triển và cải thiện sản phẩm của mình.\n",
    "- Tóm lại, các trường dữ liệu Days, Top 10 (xTimes) và Total Streams của bảng dữ liệu Spotify có ảnh hưởng lớn đến công chúng và nghệ sĩ. Thông tin trong bảng này có thể giúp đánh giá khả năng thành công của bài hát và nghệ sĩ trên thị trường âm nhạc, từ đó giúp quyết định về chiến lược phát triển kinh doanh và marketing của công ty hoặc nghệ sĩ đó."
   ]
  },
  {
   "cell_type": "markdown",
   "id": "5179135c",
   "metadata": {},
   "source": [
    "### <span style='color:#2B9C15'>3. Khám phá mối quan hệ từ trường dữ liệu Artist Name </span>"
   ]
  },
  {
   "cell_type": "markdown",
   "id": "15be80dd",
   "metadata": {},
   "source": [
    "👉 Các mối quan hệ từ trường dữ liệu `Artist Name`:\n",
    "- Ở đây chúng ta sẽ tìm hiểu xem Nghệ sĩ nào có tần số xuất hiện nhiều nhất trong tập dữ liệu này. \n",
    "- Bên cạnh đó ta cũng sẽ tìm hiểu những Nghệ sĩ nào sẽ có lượt stream bài hát cao nhất tại Spotify.\n",
    "- Liệu rằng Nghệ sĩ càng phổ biến thì sẽ càng có nhiều người nghe và có số lượt stream bài hát bài càng cao?"
   ]
  },
  {
   "cell_type": "markdown",
   "id": "8f9485a7",
   "metadata": {},
   "source": [
    "#### Đầu tiên chúng ta sẽ tìm hiểu xem Nghệ sĩ nào có tấn số xuất hiện nhiều nhất trong tập dữ liệu này"
   ]
  },
  {
   "cell_type": "code",
   "execution_count": null,
   "id": "a5f12241",
   "metadata": {},
   "outputs": [],
   "source": [
    "#Tạo dữ liệu cần thiế\n",
    "data=song_df['Artist Name'].value_counts(dropna=True, sort=True)"
   ]
  },
  {
   "cell_type": "markdown",
   "id": "3a77b659",
   "metadata": {},
   "source": [
    "👉 Chọn biểu đồ bar chart để thể hiện Top 10 Nghệ sĩ góp mặt nhiều nhất trong tập dữ liệu\n",
    "- Bar chart phù hợp để thể hiện số lượng xuất hiện tương ứng của từng Nghệ sĩ.\n",
    "- Bên cạnh đó, bar chart cũng rất hữu ích để có thể so sánh số lượng xuất hiện giữa các Nghệ sĩ với nhau."
   ]
  },
  {
   "cell_type": "code",
   "execution_count": null,
   "id": "c7ce27a2",
   "metadata": {},
   "outputs": [],
   "source": [
    "# Trực quan hóa dữ liệu bằng bar chart\n",
    "colors = [\"#00008b\",\"#008b8b\",\"#b8860b\",\"#a9a9a9\",\"#006400\",\"#a9a9a9\",\"#bdb76b\",\"#8b008b\",\"#556b2f\",\"#ff8c00\"]\n",
    "data = go.Bar(x=data.index[:10], y=data.values[:10], text = data.values,textposition ='outside',\n",
    "              textfont = dict(size = 15,\n",
    "                             color = 'white'),\n",
    "              marker = dict(color = colors,\n",
    "                            opacity = 0.7,\n",
    "                            line_color = 'black',\n",
    "                            line_width = 2))\n",
    "layout = go.Layout(title = {'text': \"<b>Top 10 Most Popular Artists on Spotify</b>\",\n",
    "                           'x':0.5,\n",
    "                           'xanchor': 'center'},\n",
    "                   xaxis = dict(title='Artist' ),\n",
    "                   yaxis =dict(title='Frequence'),\n",
    "                   width = 900,\n",
    "                   height = 600,\n",
    "                   template = 'plotly_white')\n",
    "fig=go.Figure(data = data, layout = layout)\n",
    "iplot(fig)"
   ]
  },
  {
   "cell_type": "markdown",
   "id": "25142489",
   "metadata": {},
   "source": [
    "#### Tiếp đến chúng ta sẽ tìm hiểu xem Nghệ sĩ nào sẽ có lượt sream bài hát nhiều nhất trong tập dữ liệu này"
   ]
  },
  {
   "cell_type": "code",
   "execution_count": null,
   "id": "a5b541d1",
   "metadata": {},
   "outputs": [],
   "source": [
    "# Đếm số lượng strean của Nghệ sĩ\n",
    "song_popularity = song_df.groupby('Artist Name')['Total Streams'].sum()\n",
    "# Sắp xếp giảm dần\n",
    "song_popularity = song_popularity.sort_values(ascending=False)"
   ]
  },
  {
   "cell_type": "markdown",
   "id": "99516d32",
   "metadata": {},
   "source": [
    "👉 Tương tự ta cũng chọn biểu đồ bar chart để thể hiện Top 10 Nghệ sĩ có lượt stream cao nhất trong tập dữ liệu\n",
    "- Bar chart phù hợp để thể hiện số lượng lượt stream tương ứng của từng Nghệ sĩ.\n",
    "- Bên cạnh đó, bar chart cũng rất hữu ích để có thể so sánh số lượng lượt stream giữa các Nghệ sĩ với nhau."
   ]
  },
  {
   "cell_type": "code",
   "execution_count": null,
   "id": "cec8268a",
   "metadata": {},
   "outputs": [],
   "source": [
    "# Trực quan hóa dữ liệu bằng bar chart\n",
    "colors = [\"#008080\",\"#00ffff\",\"#ffa500\",\"#faebd7\",\"#7fffd4\",\"#f0ffff\",\"#f5f5dc\",\"#ffe4c4\",\"#ffebcd\",\"#fffaf0\"]\n",
    "data = go.Bar(x=song_popularity.index.values[:10], y=song_popularity.head(10), text = song_popularity.values,textposition ='outside',\n",
    "              textfont = dict(size = 15,\n",
    "                             color = 'white'),\n",
    "              marker = dict(color = colors,\n",
    "                            opacity = 0.7,\n",
    "                            line_color = 'black',\n",
    "                            line_width = 2))\n",
    "layout = go.Layout(title = {'text': \"<b>Top 10 Most Streamed Artists on Spotify</b>\",\n",
    "                           'x':0.5,\n",
    "                           'xanchor': 'center'},\n",
    "                   xaxis = dict(title='Artist' ),\n",
    "                   yaxis =dict(title='Total Stream'),\n",
    "                   width = 900,\n",
    "                   height = 600,\n",
    "                   template = 'plotly_white')\n",
    "fig=go.Figure(data = data, layout = layout)\n",
    "iplot(fig)"
   ]
  },
  {
   "cell_type": "markdown",
   "id": "b3ec6e8c",
   "metadata": {},
   "source": [
    "👉 Ý nghĩa sau khi trực quan\n",
    "- Các biểu đồ này hiển thị những Nghệ sĩ có phổ biến nhất trong tập dữ liệu này cũng như những Nghệ sĩ có số lượt stream cao nhất:\n",
    "    + Không có sự đồng bộ giữa hai biểu đồ này. Nghệ sĩ có thể thuộc Top 10 Nghệ sĩ phổ biến trên Spotify nhưng không đồng nghĩa là Nghệ sĩ này cũng sẽ lọt vào Top 10 Nghệ sĩ có lượt stream cao nhất.\n",
    "    + Một số Nghệ sĩ có tần suất xuất hiện nhiều tuy nhiên tổng lượt stream lại tương đối ít so với các Nghệ sĩ khác, có nghĩa là hầu hết các bài hát của họ xếp hạng không cao nhưng vẫn thuộc tập dữ liệu này.\n",
    "    + Một số Nghệ sĩ tuy ít xuất hiện và có ít bài hát nhưng số ít bài hát đó lại có nhiều lượt stream và đó là điều khiến những Nghệ sĩ đó dù không lọt vào Top 10 Nghệ sĩ phổ biến nhưng vẫn lọt vào Top 10 Nghệ sĩ có số lượt stream cao nhất.\n",
    "- Tóm lại, thông qua các biểu đồ trên chúng ta có thể xác định được những Nghệ sĩ nào đang thực sự phổ biến trên Spotify."
   ]
  },
  {
   "cell_type": "markdown",
   "id": "408a0360",
   "metadata": {},
   "source": [
    "### <span style='color:#2B9C15'>4. Khám phá mối quan hệ từ trường dữ liệu Top 10 (xTimes) và Peak Streams </span>"
   ]
  },
  {
   "cell_type": "code",
   "execution_count": null,
   "id": "55a0752b",
   "metadata": {},
   "outputs": [],
   "source": [
    "# Tính toán hệ số tương quan Pearson của Days và Total Streams\n",
    "corr_coef = song_df['Top 10 (xTimes)'].corr(song_df['Peak Streams'], method='pearson')\n",
    "print('Hệ số tương quan Pearson giữa Top 10 (xTimes) và Peak Streams:', corr_coef)"
   ]
  },
  {
   "cell_type": "markdown",
   "id": "69b88b90",
   "metadata": {},
   "source": [
    "👉 Mối quan hệ giữa hai trường dữ liệu `Top 10 (xTimes)` và `Peak Streams`:\n",
    "- Từ giá trị của `corr_coef` có giá trị dương, ta có thể kết luận rằng Top 10 (xTimes) và Peak Streamss có mối quan hệ tương quan với nhau nhưng không mạnh.\n",
    "👉 Ta dùng biểu đồ Scatterplot để thể hiện mối quan hệ giữa `Top 10 (xTimes)` và `Peak Streams`"
   ]
  },
  {
   "cell_type": "code",
   "execution_count": null,
   "id": "f1a3005b",
   "metadata": {},
   "outputs": [],
   "source": [
    "# Tiến hành trực quan hóa dữ liệu\n",
    "fig, ax = plt.subplots(figsize=(20, 9))\n",
    "sns.scatterplot(data=song_df, x=song_df['Top 10 (xTimes)'], y=song_df['Peak Streams'], color='red', ax=ax)\n",
    "sns.despine()\n",
    "\n",
    "ax.set_xlabel(\"Top 10 (xTimes)\", fontsize=14)\n",
    "ax.set_ylabel(\"Peak Streams\", fontsize=14)\n",
    "ax.set_title(\"Top 10 (xTimes) - Peak Streams\", fontsize=18)\n",
    "\n",
    "plt.show()"
   ]
  },
  {
   "cell_type": "markdown",
   "id": "d2512330",
   "metadata": {},
   "source": [
    "👉 Nhận xét: \n",
    "- Các điểm dữ liệu phân bố rải rác khắp biểu đồ nhưng không đều. Ta chưa thấy được mối quan hệ rõ ràng giữa `Top 10 (xTimes)` và `Peak Streams`"
   ]
  },
  {
   "cell_type": "markdown",
   "id": "464f1a3a",
   "metadata": {},
   "source": [
    "#### Tiếp theo, ta sẽ dùng dữ liệu của 10 bài hát có số lần lọt vào Top 10 nhiều nhất tiếp tục so sánh"
   ]
  },
  {
   "cell_type": "code",
   "execution_count": null,
   "id": "a9c5c3b9",
   "metadata": {},
   "outputs": [],
   "source": [
    "# chuẩn bị dữ liệu cần thiết\n",
    "enter_top = song_df.sort_values('Top 10 (xTimes)', ascending=False)[:10]\n",
    "enter_top1 = enter_top['Song Name']\n",
    "enter_top2 = enter_top['Top 10 (xTimes)']\n",
    "enter_top3 = enter_top['Peak Streams']"
   ]
  },
  {
   "cell_type": "markdown",
   "id": "4c702962",
   "metadata": {},
   "source": [
    "👉 Ta sẽ vẽ 2 biểu đồ song song với nhau để có thể so sánh một cách dễ dàng nhất\n",
    "- Biểu đồ 1: Dùng bar chart thể hiện tên của 10 bài hát cũng với số lần lọt vào Top 10 nhiều nhất\n",
    "- Biểu đồ 2: Dùng line chart thể hiện số lượt Peak Streams (Total no of streams during Peak position) của các bài hát đó, bên cạnh đó line chart cũng sẽ thể hiện tốt sự dao động của dữ liệu này."
   ]
  },
  {
   "cell_type": "code",
   "execution_count": null,
   "id": "2ee47ad9",
   "metadata": {},
   "outputs": [],
   "source": [
    "# Tiến hành trực quan hóa dữ liệu\n",
    "fig = make_subplots(rows=1, cols=2, specs=[[{}, {}]], shared_xaxes=True,\n",
    "                    shared_yaxes=False, vertical_spacing=0.001)\n",
    "fig.append_trace(go.Bar(\n",
    "    x=enter_top2,\n",
    "    y=enter_top1,\n",
    "    marker=dict(\n",
    "        color='rgba(50, 171, 96, 0.6)',\n",
    "        line=dict(\n",
    "            color='rgba(50, 171, 96, 1.0)',\n",
    "            width=1),\n",
    "    ),\n",
    "    name='Number of Times Entered the Top 10',\n",
    "    orientation='h',\n",
    "), 1, 1)\n",
    "\n",
    "fig.append_trace(go.Scatter(\n",
    "    x=enter_top3, y=enter_top1,\n",
    "    mode='lines+markers',\n",
    "    line_color='rgb(128, 0, 128)',\n",
    "    name='Peak Streams',\n",
    "), 1, 2)\n",
    "\n",
    "fig.update_layout(\n",
    "    title=\"Top 10 Spotify Songs Based on How Much it Entered the Top 10 And It's Peak Streams\",\n",
    "    yaxis=dict(\n",
    "        showgrid=False,\n",
    "        showline=False,\n",
    "        showticklabels=True,\n",
    "        domain=[0, 0.85],\n",
    "    ),\n",
    "    yaxis2=dict(\n",
    "        showgrid=False,\n",
    "        showline=True,\n",
    "        showticklabels=False,\n",
    "        linecolor='rgba(102, 102, 102, 0.8)',\n",
    "        linewidth=2,\n",
    "        domain=[0, 0.85],\n",
    "    ),\n",
    "    xaxis=dict(\n",
    "        zeroline=False,\n",
    "        showline=False,\n",
    "        showticklabels=True,\n",
    "        showgrid=True,\n",
    "        domain=[0, 0.42],\n",
    "    ),\n",
    "    xaxis2=dict(\n",
    "        zeroline=False,\n",
    "        showline=False,\n",
    "        showticklabels=False,\n",
    "        showgrid=True,\n",
    "        domain=[0.47, 1],\n",
    "        side='top',\n",
    "        dtick=25000,\n",
    "    ),\n",
    "    legend=dict(x=0.029, y=1.038, font_size=10),\n",
    "    margin=dict(l=100, r=20, t=70, b=70),\n",
    "    paper_bgcolor='rgb(248, 248, 255)',\n",
    "    plot_bgcolor='rgb(248, 248, 255)',\n",
    ")"
   ]
  },
  {
   "cell_type": "markdown",
   "id": "454150bf",
   "metadata": {},
   "source": [
    "👉 Ý nghĩa sau khi trực quan\n",
    "- Biểu đồ thể hiện được tên của 10 bài hát lọt vào Top 10 nhiều nhất cũng như số lượt Peak Streams của bài hát đó:\n",
    "    + Đa số các bài hát lọt vào Top 10 nhiều lần thì có số lượt Peak Stream không quá lớn.\n",
    "    + Điều này chứng tỏ rằng các bài hát thường không giữ vững được vị trí đỉnh quá lâu khi được lọt vào Top 10."
   ]
  },
  {
   "cell_type": "markdown",
   "id": "b4e3090f",
   "metadata": {},
   "source": [
    "### <span style='color:#2B9C15'>5. Khám phá mối quan hệ từ trường dữ liệu Artist Name, Song Name, Peak Streams và Total Streams </span>"
   ]
  },
  {
   "cell_type": "markdown",
   "id": "7e8adf2c",
   "metadata": {},
   "source": [
    "👉 Ta tìm hiểu mối quan hệ từ các trường dữ liệu trên bằng biểu đồ treemap:\n",
    "- Ở đây chúng ta sẽ thấy được từng nghệ sĩ có những bài hát nào. \n",
    "- Diện tích của các ô vuông chứa tên bài hát càng lớn nghĩa là bài hát có tổng lượt nghe càng cao.\n",
    "- Sắc độ của các ô vuông chứa tên bài hát thể hiện tổng số lượt stream trong lúc đạt vị trí cao nhất."
   ]
  },
  {
   "cell_type": "markdown",
   "id": "4df3984d",
   "metadata": {},
   "source": [
    "👉 Để rõ hơn, ta có thể di chuyển trỏ chuột vào từng ô hay chậm chí click trái chuột vào ô đó để xem thông tin chi tiết.\n",
    "Để trở ra, ta di chuyển lên thanh Artists ở trên đầu và click trái để quay trở về."
   ]
  },
  {
   "cell_type": "code",
   "execution_count": null,
   "id": "8aa4cfa9",
   "metadata": {},
   "outputs": [],
   "source": [
    "px.treemap(data_frame=song_df, path=[px.Constant('Artists'),'Artist Name','Song Name'], values='Total Streams',color='Peak Streams',color_continuous_scale='rdbu')"
   ]
  },
  {
   "cell_type": "markdown",
   "id": "9894803c",
   "metadata": {},
   "source": [
    "### <span style='color:#2B9C15'>6. Khám phá mối quan hệ từ trường dữ liệu Song Name và Total Streams </span>"
   ]
  },
  {
   "cell_type": "markdown",
   "id": "759629cd",
   "metadata": {},
   "source": [
    "👉 Ta tìm hiểu mối quan hệ từ trường dữ liệu `Song Name` và `Total Stream` bằng biểu đồ thanh ngang:\n",
    "- Ở đây chúng ta sẽ tìm hiểu xem top 10 Bài hát nào có tổng số lượt nghe nhiều nhất trên Spotify. \n",
    "- Bên cạnh đó, chúng ta cũng sẽ thấy được từng bài top 10 này có tổng số lượt nghe là bao nhiêu."
   ]
  },
  {
   "cell_type": "code",
   "execution_count": null,
   "id": "e6de5ea3",
   "metadata": {},
   "outputs": [],
   "source": [
    "plt.figure(figsize=(10,8))\n",
    "x=list(song_df['Total Streams'])\n",
    "x.sort(reverse=True)\n",
    "topFiveTotalStreams=[]\n",
    "topFiveSongName=[]\n",
    "for i in range (10):\n",
    "    topFiveTotalStreams.append(x[i])\n",
    "for i in range (len(topFiveTotalStreams)):\n",
    "    for j in range (len(song_df['Song Name'])):\n",
    "        if song_df['Total Streams'][j]==topFiveTotalStreams[i]:\n",
    "            topFiveSongName.append(song_df['Song Name'][j])\n",
    "plt.barh(topFiveSongName, topFiveTotalStreams, color='#7eb54e')\n",
    "plt.xlabel('Total Streams')\n",
    "plt.title('Top 10 most streamed song on Spotify')\n",
    "plt.ylabel('Song Name')\n",
    "plt.show()"
   ]
  }
 ],
 "metadata": {
  "kernelspec": {
   "display_name": "Python 3 (ipykernel)",
   "language": "python",
   "name": "python3"
  },
  "language_info": {
   "codemirror_mode": {
    "name": "ipython",
    "version": 3
   },
   "file_extension": ".py",
   "mimetype": "text/x-python",
   "name": "python",
   "nbconvert_exporter": "python",
   "pygments_lexer": "ipython3",
   "version": "3.10.9"
  },
  "vscode": {
   "interpreter": {
    "hash": "76d7c06053c3456e5600312cec90888656fc0ed30c03d8425b9dac6e4fc8e014"
   }
  }
 },
 "nbformat": 4,
 "nbformat_minor": 5
}
