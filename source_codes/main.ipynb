{
 "cells": [
  {
   "cell_type": "markdown",
   "id": "ae9e0e01",
   "metadata": {},
   "source": [
    "<div style=\"text-align: left; background-color:#1ED760; font-family:Times New Roman; color:#191414; padding: 12px; line-height:1.25;border-radius:1px; margin-bottom: 0em; text-align: center; font-size: 40px;border-style: solid;border-color: #1DB954;\"><strong>LAB 01: TRỰC QUAN HÓA DỮ LIỆU VỚI PYTHON</strong></div>\n",
    "<div style=\"text-align: left; background-color:#FFFFFF; font-family: Times New Roman; color:black; padding: 12px; line-height:1.25;border-radius:1px; margin-bottom: 0em; text-align: center; font-size: 18px\"><strong>| CSC10108 – TRỰC QUAN HÓA DỮ LIỆU - NHÓM 16 |<strong></div>"
   ]
  },
  {
   "attachments": {},
   "cell_type": "markdown",
   "id": "dc222d72",
   "metadata": {},
   "source": [
    "<a id=\"top\"></a>\n",
    "<div class=\"list-group\" id=\"list-tab\" role=\"tablist\">\n",
    "    <h3 style=\"text-align: left; background-color: #1ED760; font-family:Times New Roman; color: white; padding: 14px; line-height: 1; border-radius:10px\"><b>Thông tin thành viên nhóm</b></h3>\n",
    "\n",
    "   *  Trần Huỳnh Hương         - 20120099\n",
    "\n",
    "   * Nguyễn Dương Tuấn Phương  - 20120166\n",
    "    \n",
    "   * Trần Hoài Thiện           - 20120195\n",
    "        \n",
    "   * Trần Thị Mỹ Trinh         - 20120224\n",
    "\n",
    "   * Nguyễn Phương Anh         - 20120247"
   ]
  },
  {
   "cell_type": "markdown",
   "id": "5ab980d0",
   "metadata": {},
   "source": [
    "<a id=\"top\"></a>\n",
    "<div class=\"list-group\" id=\"list-tab\" role=\"tablist\">\n",
    "    <h3 style=\"text-align: left; background-color: #1ED760; font-family:Times New Roman; color: white; padding: 14px; line-height: 1; border-radius:10px\"><b>Mục lục 📝</b></h3>\n",
    "    \n",
    "   * A. Thu thập dữ liệu\n",
    "        \n",
    "   * B. Khám phá dữ liệu\n",
    "\n",
    "   * C. Khám phá mối quan hệ trong dữ liệu"
   ]
  },
  {
   "cell_type": "markdown",
   "id": "8a59575c",
   "metadata": {},
   "source": [
    "<div style=\"text-align: left; background-color:#ACA224; font-family:Arial; color:white; padding: 12px; line-height:1.25;border-radius:1px; margin-bottom: 0em; text-align: center; font-size: 30px;border-style: solid;border-color: black;\">A. THU THẬP DỮ LIỆU</div>"
   ]
  },
  {
   "cell_type": "markdown",
   "id": "03bc7a93",
   "metadata": {},
   "source": [
    "<div style=\"text-align: left; background-color:#FFFFFF; font-family: Times New Roman; color:black; padding: 12px; line-height:1.25;border-radius:1px; margin-bottom: 0em; text-align: center; font-size: 20px\" > <strong>Tập dữ liệu được chọn: Spotify Top 10000 Streamed Songs<strong> </div> "
   ]
  },
  {
   "attachments": {},
   "cell_type": "markdown",
   "id": "cb017251",
   "metadata": {},
   "source": [
    "### <span style='color:#2B9C15'>1. Ngữ cảnh, câu chuyện gì khiến nhóm sinh viên thực hiện việc tìm kiếm dữ liệu?</span>"
   ]
  },
  {
   "cell_type": "markdown",
   "id": "82b6fe3e",
   "metadata": {},
   "source": [
    "<div style=\"border-radius:10px;border:#0C6A86 solid;padding: 15px;background-color:#ebfae8;font-size:110%;text-align:left\">\n",
    "Spotify là một nền tảng, dịch vụ cung cấp nhạc, podcast và video kỹ thuật số cho phép người dùng truy cập hàng triệu bài hát và các nội dung khác của các nghệ sĩ trên khắp thế giới. Để tìm hiểu về những bài hát, bản nhạc thường xuyên được người dùng nghe, nhóm đã tìm kiếm tập dữ liệu phân tích hơn 10000 bản nhạc được nghe nhiều nhất trên nên tảng Spotify. "
   ]
  },
  {
   "attachments": {},
   "cell_type": "markdown",
   "id": "7a1de00a",
   "metadata": {},
   "source": [
    "### <span style='color:#2B9C15'>2. Dữ liệu mà nhóm sinh viên là về chủ đề gì và được lấy từ nguồn nào?</span>"
   ]
  },
  {
   "attachments": {},
   "cell_type": "markdown",
   "id": "ff37b7e0",
   "metadata": {},
   "source": [
    "<div style=\"border-radius:10px;border:#0C6A86 solid;padding: 15px;background-color:#ebfae8;font-size:110%;text-align:left\">\n",
    "    Tập dữ liệu mà nhóm tìm kiếm thuộc về chủ đề âm nhạc, được tổng hợp trên web và tích lũy tất cả các số liệu phát trực tuyến của từng nghệ sĩ và các bài hát tương ứng của họ. \n",
    "    </br>\n",
    "    Nhóm đã thực hiện tìm kiếm tập dữ liệu trên Kaggle: <a href='https://www.kaggle.com/datasets/rakkesharv/spotify-top-10000-streamed-songs?fbclid=IwAR0I5mLsdM0TxUdUDcqc5WV_9w5dTSpb7lkBGhMev45ywErhkgbY9hX24vs'> Spotify Top 10000 Streamed Songs </a>\n",
    "</div>"
   ]
  },
  {
   "attachments": {},
   "cell_type": "markdown",
   "id": "8300ee8f",
   "metadata": {},
   "source": [
    "### <span style='color:#2B9C15'>3. Người ta có cho phép sử dụng dữ liệu như thế này hay không?</span>"
   ]
  },
  {
   "cell_type": "markdown",
   "id": "8780b39e",
   "metadata": {},
   "source": [
    "<div style=\"border-radius:10px;border:#0C6A86 solid;padding: 15px;background-color:#ebfae8;font-size:110%;text-align:left\">\n",
    "    Sản phẩm: Spotify Top 10000 Streamed Songs của tác giả Rakkesh Aravind G được đăng công khai trên trang web Kaggle. Và dữ liệu này có License là CC0 1.0 Universal (CC0 1.0) Public Domain Dedication. Thế nên ta được quyền sử dụng tập dữ liệu này với mọi mục đích như: sao chép, sửa đổi, phân phối và thực hiện tác phẩm, ngay cả với mục đích thương mại,.. mà không cần xin phép. "
   ]
  },
  {
   "attachments": {},
   "cell_type": "markdown",
   "id": "d82bf325",
   "metadata": {},
   "source": [
    "### <span style='color:#2B9C15'>4. Người ta đã thu thập dữ liệu này như thế nào? Phương pháp thực hiện là gì?</span>"
   ]
  },
  {
   "cell_type": "markdown",
   "id": "bc0aadd2",
   "metadata": {},
   "source": [
    "<div style=\"border-radius:10px;border:#0C6A86 solid;padding: 15px;background-color:#ebfae8;font-size:110%;text-align:left\">\n",
    "    Dữ liệu này được thu thập thông qua trang web của Sportify - một dịch vụ cung cấp nhạc, podcast và video kỹ thuật số. Phương pháp thực hiện là Web scraping - một quá trình sử dụng bots (các phần mềm máy tính thực hiện các tác vụ tự động) để trích xuất dữ liệu và nội dung từ các website. Những dữ liệu thu thập được sau đó được lưu thành các định dạng hữu ích như bảng tính hoặc được truy xuất bằng API để phục vụ cho mục đích của người sử dụng. Cụ thể ở tập dữ liệu này, tác giả đã sử dụng ngôn ngữ Python và thư viện hỗ trợ là BeautifulSoup để có thể thu thập dữ liệu. "
   ]
  },
  {
   "cell_type": "markdown",
   "id": "3b88333f",
   "metadata": {},
   "source": [
    "<div style=\"text-align: left; background-color:#ACA224; font-family:Arial; color:white; padding: 12px; line-height:1.25;border-radius:1px; margin-bottom: 0em; text-align: center; font-size: 30px;border-style: solid;border-color: black;\">B. KHÁM PHÁ DỮ LIỆU</div>"
   ]
  },
  {
   "attachments": {},
   "cell_type": "markdown",
   "id": "825cf105",
   "metadata": {},
   "source": [
    "👉 Đầu tiên ta import các thư viện cần thiết:"
   ]
  },
  {
   "cell_type": "code",
   "execution_count": 30,
   "id": "da8395a2",
   "metadata": {},
   "outputs": [],
   "source": [
    "import numpy as np\n",
    "import pandas as pd\n",
    "import seaborn as sns\n",
    "import matplotlib.pyplot as plt"
   ]
  },
  {
   "attachments": {},
   "cell_type": "markdown",
   "id": "bf8cca98",
   "metadata": {},
   "source": [
    "👉 Tiếp theo, ta đọc file `\"Spotify_final_dataset.csv\"` vào dataframe `song_df` và in ra 5 dòng đầu tiên của dataframe."
   ]
  },
  {
   "cell_type": "code",
   "execution_count": 31,
   "id": "f4571815",
   "metadata": {},
   "outputs": [
    {
     "data": {
      "text/html": [
       "<div>\n",
       "<style scoped>\n",
       "    .dataframe tbody tr th:only-of-type {\n",
       "        vertical-align: middle;\n",
       "    }\n",
       "\n",
       "    .dataframe tbody tr th {\n",
       "        vertical-align: top;\n",
       "    }\n",
       "\n",
       "    .dataframe thead th {\n",
       "        text-align: right;\n",
       "    }\n",
       "</style>\n",
       "<table border=\"1\" class=\"dataframe\">\n",
       "  <thead>\n",
       "    <tr style=\"text-align: right;\">\n",
       "      <th></th>\n",
       "      <th>Position</th>\n",
       "      <th>Artist Name</th>\n",
       "      <th>Song Name</th>\n",
       "      <th>Days</th>\n",
       "      <th>Top 10 (xTimes)</th>\n",
       "      <th>Peak Position</th>\n",
       "      <th>Peak Position (xTimes)</th>\n",
       "      <th>Peak Streams</th>\n",
       "      <th>Total Streams</th>\n",
       "    </tr>\n",
       "  </thead>\n",
       "  <tbody>\n",
       "    <tr>\n",
       "      <th>0</th>\n",
       "      <td>1</td>\n",
       "      <td>Post Malone</td>\n",
       "      <td>Sunflower  SpiderMan: Into the SpiderVerse</td>\n",
       "      <td>1506</td>\n",
       "      <td>302.0</td>\n",
       "      <td>1</td>\n",
       "      <td>(x29)</td>\n",
       "      <td>2118242</td>\n",
       "      <td>883369738</td>\n",
       "    </tr>\n",
       "    <tr>\n",
       "      <th>1</th>\n",
       "      <td>2</td>\n",
       "      <td>Juice WRLD</td>\n",
       "      <td>Lucid Dreams</td>\n",
       "      <td>1673</td>\n",
       "      <td>178.0</td>\n",
       "      <td>1</td>\n",
       "      <td>(x20)</td>\n",
       "      <td>2127668</td>\n",
       "      <td>864832399</td>\n",
       "    </tr>\n",
       "    <tr>\n",
       "      <th>2</th>\n",
       "      <td>3</td>\n",
       "      <td>Lil Uzi Vert</td>\n",
       "      <td>XO TOUR Llif3</td>\n",
       "      <td>1853</td>\n",
       "      <td>212.0</td>\n",
       "      <td>1</td>\n",
       "      <td>(x4)</td>\n",
       "      <td>1660502</td>\n",
       "      <td>781153024</td>\n",
       "    </tr>\n",
       "    <tr>\n",
       "      <th>3</th>\n",
       "      <td>4</td>\n",
       "      <td>J. Cole</td>\n",
       "      <td>No Role Modelz</td>\n",
       "      <td>2547</td>\n",
       "      <td>6.0</td>\n",
       "      <td>7</td>\n",
       "      <td>0</td>\n",
       "      <td>659366</td>\n",
       "      <td>734857487</td>\n",
       "    </tr>\n",
       "    <tr>\n",
       "      <th>4</th>\n",
       "      <td>5</td>\n",
       "      <td>Post Malone</td>\n",
       "      <td>rockstar</td>\n",
       "      <td>1223</td>\n",
       "      <td>186.0</td>\n",
       "      <td>1</td>\n",
       "      <td>(x124)</td>\n",
       "      <td>2905678</td>\n",
       "      <td>718865961</td>\n",
       "    </tr>\n",
       "  </tbody>\n",
       "</table>\n",
       "</div>"
      ],
      "text/plain": [
       "   Position    Artist Name                                   Song Name  Days  \\\n",
       "0         1   Post Malone   Sunflower  SpiderMan: Into the SpiderVerse  1506   \n",
       "1         2    Juice WRLD                                 Lucid Dreams  1673   \n",
       "2         3  Lil Uzi Vert                                XO TOUR Llif3  1853   \n",
       "3         4       J. Cole                               No Role Modelz  2547   \n",
       "4         5   Post Malone                                     rockstar  1223   \n",
       "\n",
       "   Top 10 (xTimes)  Peak Position Peak Position (xTimes)  Peak Streams  \\\n",
       "0            302.0              1                  (x29)       2118242   \n",
       "1            178.0              1                  (x20)       2127668   \n",
       "2            212.0              1                   (x4)       1660502   \n",
       "3              6.0              7                      0        659366   \n",
       "4            186.0              1                 (x124)       2905678   \n",
       "\n",
       "   Total Streams  \n",
       "0      883369738  \n",
       "1      864832399  \n",
       "2      781153024  \n",
       "3      734857487  \n",
       "4      718865961  "
      ]
     },
     "execution_count": 31,
     "metadata": {},
     "output_type": "execute_result"
    }
   ],
   "source": [
    "song_df = pd.read_csv('../datasets/Spotify_final_dataset.csv')\n",
    "song_df.head()"
   ]
  },
  {
   "attachments": {},
   "cell_type": "markdown",
   "id": "0ce67489",
   "metadata": {},
   "source": [
    "👉 Tính số dòng và số cột:"
   ]
  },
  {
   "cell_type": "code",
   "execution_count": 32,
   "id": "d955e589",
   "metadata": {},
   "outputs": [
    {
     "name": "stdout",
     "output_type": "stream",
     "text": [
      "Number of rows:  11084\n",
      "Number of columns:  9\n"
     ]
    }
   ],
   "source": [
    "print('Number of rows: ', song_df.shape[0])\n",
    "print('Number of columns: ', song_df.shape[1])"
   ]
  },
  {
   "attachments": {},
   "cell_type": "markdown",
   "id": "177be2e7",
   "metadata": {},
   "source": [
    "### <span style='color:#2B9C15'>1. Mỗi dòng có ý nghĩa gì? Có vấn đề các dòng có ý nghĩa khác nhau không?</span>"
   ]
  },
  {
   "cell_type": "code",
   "execution_count": null,
   "id": "fe92729b",
   "metadata": {},
   "outputs": [],
   "source": []
  },
  {
   "attachments": {},
   "cell_type": "markdown",
   "id": "b439d0f7",
   "metadata": {},
   "source": [
    "### <span style='color:#2B9C15'>2. Mỗi cột có ý nghĩa gì?</span>"
   ]
  },
  {
   "cell_type": "code",
   "execution_count": null,
   "id": "12585157",
   "metadata": {},
   "outputs": [],
   "source": []
  },
  {
   "attachments": {},
   "cell_type": "markdown",
   "id": "3a71c6e6",
   "metadata": {},
   "source": [
    "### <span style='color:#2B9C15'>3. Mỗi cột hiện đang có kiểu dữ liệu gì? Có cột nào có kiểu dữ liệu chưa phù hợp để có thể xử lý tiếp hay không?</span>"
   ]
  },
  {
   "attachments": {},
   "cell_type": "markdown",
   "id": "1a2c5052",
   "metadata": {},
   "source": [
    "👉 Ta sử dụng phương thức `dtypes` trên dataframe `song_df` để xem kiểu dữ liệu của mỗi cột:"
   ]
  },
  {
   "cell_type": "code",
   "execution_count": 33,
   "id": "cd8f8897",
   "metadata": {},
   "outputs": [
    {
     "data": {
      "text/plain": [
       "Position                    int64\n",
       "Artist Name                object\n",
       "Song Name                  object\n",
       "Days                        int64\n",
       "Top 10 (xTimes)           float64\n",
       "Peak Position               int64\n",
       "Peak Position (xTimes)     object\n",
       "Peak Streams                int64\n",
       "Total Streams               int64\n",
       "dtype: object"
      ]
     },
     "execution_count": 33,
     "metadata": {},
     "output_type": "execute_result"
    }
   ],
   "source": [
    "col_dtype = song_df.dtypes\n",
    "col_dtype"
   ]
  },
  {
   "attachments": {},
   "cell_type": "markdown",
   "id": "1ff0cc57",
   "metadata": {},
   "source": [
    "**💡 Nhận xét:** Dựa vào kết quả trên ta thấy rằng:\n",
    "- Các cột `Artist Name`, `Song Name` có kiểu dữ liệu là `object`\n",
    "- Các cột `Position`, `Days`, `Peak Position`, `Peak Streams`, `Total Streams` có kiểu dữ liệu là `int`\n",
    "- Cột `Top 10 (xTimes)`, `Peak Position (xTimes)` đang ở định dạng chưa phù hợp, ta cần chuyển về kiểu dữ liệu `int` nên cần phải tiền xử lý ở giai đoạn này."
   ]
  },
  {
   "attachments": {},
   "cell_type": "markdown",
   "id": "8968cd38",
   "metadata": {},
   "source": [
    "👉 Thay đổi kiểu dữ liệu cho phù hợp cho hai cột `Top 10 (xTimes)`, `Peak Position (xTimes)`:\n",
    "- `Top 10 (xTimes)` là số lần bài hát đó lọt vào Top 10 và có đơn vị là xTimes, nên kiểu dữ liệu phù hợp là `int`.\n",
    "- `Peak Position (xTimes)` là số lần bài hát đó đạt được hạng cao nhất và có đơn vị là xTimes, nên kiểu dữ liệu phù là `int`.\n",
    "</br>\n",
    "Vì bài hát đã đạt được Peak Position nào đó, nên trong trường hợp này `Peak Position (xTimes)` không thể bằng 0 và ít nhất phải bằng 1 vì bài hát đã từng đạt được vị trí cao nhất trong một khoảng thời gian nào đó.\n",
    "</br>\n",
    "Do không có các thông tin cụ thể hay cột dữ liệu nào có thể suy dẫn để biết được bài hát đó có bao nhiêu lần đạt Peak nên nhóm chúng em quyết định cột `Peak Position (xTimes)` có giá trị 0 sẽ thay bằng 1."
   ]
  },
  {
   "cell_type": "code",
   "execution_count": 34,
   "id": "ae7e8cd9",
   "metadata": {},
   "outputs": [
    {
     "data": {
      "text/html": [
       "<div>\n",
       "<style scoped>\n",
       "    .dataframe tbody tr th:only-of-type {\n",
       "        vertical-align: middle;\n",
       "    }\n",
       "\n",
       "    .dataframe tbody tr th {\n",
       "        vertical-align: top;\n",
       "    }\n",
       "\n",
       "    .dataframe thead th {\n",
       "        text-align: right;\n",
       "    }\n",
       "</style>\n",
       "<table border=\"1\" class=\"dataframe\">\n",
       "  <thead>\n",
       "    <tr style=\"text-align: right;\">\n",
       "      <th></th>\n",
       "      <th>Position</th>\n",
       "      <th>Artist Name</th>\n",
       "      <th>Song Name</th>\n",
       "      <th>Days</th>\n",
       "      <th>Top 10 (xTimes)</th>\n",
       "      <th>Peak Position</th>\n",
       "      <th>Peak Position (xTimes)</th>\n",
       "      <th>Peak Streams</th>\n",
       "      <th>Total Streams</th>\n",
       "    </tr>\n",
       "  </thead>\n",
       "  <tbody>\n",
       "    <tr>\n",
       "      <th>0</th>\n",
       "      <td>1</td>\n",
       "      <td>Post Malone</td>\n",
       "      <td>Sunflower  SpiderMan: Into the SpiderVerse</td>\n",
       "      <td>1506</td>\n",
       "      <td>302</td>\n",
       "      <td>1</td>\n",
       "      <td>29</td>\n",
       "      <td>2118242</td>\n",
       "      <td>883369738</td>\n",
       "    </tr>\n",
       "    <tr>\n",
       "      <th>1</th>\n",
       "      <td>2</td>\n",
       "      <td>Juice WRLD</td>\n",
       "      <td>Lucid Dreams</td>\n",
       "      <td>1673</td>\n",
       "      <td>178</td>\n",
       "      <td>1</td>\n",
       "      <td>20</td>\n",
       "      <td>2127668</td>\n",
       "      <td>864832399</td>\n",
       "    </tr>\n",
       "    <tr>\n",
       "      <th>2</th>\n",
       "      <td>3</td>\n",
       "      <td>Lil Uzi Vert</td>\n",
       "      <td>XO TOUR Llif3</td>\n",
       "      <td>1853</td>\n",
       "      <td>212</td>\n",
       "      <td>1</td>\n",
       "      <td>4</td>\n",
       "      <td>1660502</td>\n",
       "      <td>781153024</td>\n",
       "    </tr>\n",
       "    <tr>\n",
       "      <th>3</th>\n",
       "      <td>4</td>\n",
       "      <td>J. Cole</td>\n",
       "      <td>No Role Modelz</td>\n",
       "      <td>2547</td>\n",
       "      <td>6</td>\n",
       "      <td>7</td>\n",
       "      <td>1</td>\n",
       "      <td>659366</td>\n",
       "      <td>734857487</td>\n",
       "    </tr>\n",
       "    <tr>\n",
       "      <th>4</th>\n",
       "      <td>5</td>\n",
       "      <td>Post Malone</td>\n",
       "      <td>rockstar</td>\n",
       "      <td>1223</td>\n",
       "      <td>186</td>\n",
       "      <td>1</td>\n",
       "      <td>124</td>\n",
       "      <td>2905678</td>\n",
       "      <td>718865961</td>\n",
       "    </tr>\n",
       "  </tbody>\n",
       "</table>\n",
       "</div>"
      ],
      "text/plain": [
       "   Position    Artist Name                                   Song Name  Days  \\\n",
       "0         1   Post Malone   Sunflower  SpiderMan: Into the SpiderVerse  1506   \n",
       "1         2    Juice WRLD                                 Lucid Dreams  1673   \n",
       "2         3  Lil Uzi Vert                                XO TOUR Llif3  1853   \n",
       "3         4       J. Cole                               No Role Modelz  2547   \n",
       "4         5   Post Malone                                     rockstar  1223   \n",
       "\n",
       "   Top 10 (xTimes)  Peak Position  Peak Position (xTimes)  Peak Streams  \\\n",
       "0              302              1                      29       2118242   \n",
       "1              178              1                      20       2127668   \n",
       "2              212              1                       4       1660502   \n",
       "3                6              7                       1        659366   \n",
       "4              186              1                     124       2905678   \n",
       "\n",
       "   Total Streams  \n",
       "0      883369738  \n",
       "1      864832399  \n",
       "2      781153024  \n",
       "3      734857487  \n",
       "4      718865961  "
      ]
     },
     "execution_count": 34,
     "metadata": {},
     "output_type": "execute_result"
    }
   ],
   "source": [
    "#Xử lý dữ liệu cho cột Top 10 (xTimes):\n",
    "song_df['Top 10 (xTimes)'] = song_df['Top 10 (xTimes)'].astype('int64')\n",
    "\n",
    "\n",
    "#Xử lý dữ liệu cho cột Peak Position (xTimes):\n",
    "list_peakPositionTimes = song_df['Peak Position (xTimes)'].values.tolist()\n",
    "temp = []\n",
    "for i in list_peakPositionTimes:\n",
    "    if (i == '0'):\n",
    "        temp.append('1')\n",
    "    else:\n",
    "        temp.append(i[2:len(i)-1])\n",
    "\n",
    "song_df['Peak Position (xTimes)'] = temp\n",
    "song_df['Peak Position (xTimes)'] = song_df['Peak Position (xTimes)'].astype('int64')\n",
    "\n",
    "song_df.head()"
   ]
  },
  {
   "attachments": {},
   "cell_type": "markdown",
   "id": "ee636b3e",
   "metadata": {},
   "source": [
    "👉 Sau khi thay đổi kiểu dữ liệu, ta có kết quả:"
   ]
  },
  {
   "cell_type": "code",
   "execution_count": 35,
   "id": "43583db8",
   "metadata": {},
   "outputs": [
    {
     "data": {
      "text/plain": [
       "Position                   int64\n",
       "Artist Name               object\n",
       "Song Name                 object\n",
       "Days                       int64\n",
       "Top 10 (xTimes)            int64\n",
       "Peak Position              int64\n",
       "Peak Position (xTimes)     int64\n",
       "Peak Streams               int64\n",
       "Total Streams              int64\n",
       "dtype: object"
      ]
     },
     "execution_count": 35,
     "metadata": {},
     "output_type": "execute_result"
    }
   ],
   "source": [
    "song_df.dtypes"
   ]
  },
  {
   "attachments": {},
   "cell_type": "markdown",
   "id": "9d150be0",
   "metadata": {},
   "source": [
    "### <span style='color:#2B9C15'>4. Với mỗi cột, các giá trị (dạng số, dạng phân loại) được phân bố như thế nào?</span>"
   ]
  },
  {
   "cell_type": "code",
   "execution_count": null,
   "id": "b89c11b9",
   "metadata": {},
   "outputs": [],
   "source": []
  },
  {
   "attachments": {},
   "cell_type": "markdown",
   "id": "a40124b8",
   "metadata": {},
   "source": [
    "### <span style='color:#2B9C15'>5. Có cần phải tiền xử lý dữ liệu hay không và nếu có thì nhóm sinh viên cần phải xử lý như thế nào?</span>"
   ]
  },
  {
   "cell_type": "code",
   "execution_count": null,
   "id": "ac440677",
   "metadata": {},
   "outputs": [],
   "source": []
  },
  {
   "cell_type": "markdown",
   "id": "c0f88c1b",
   "metadata": {},
   "source": [
    "<div style=\"text-align: left; background-color:#ACA224; font-family:Arial; color:white; padding: 12px; line-height:1.25;border-radius:1px; margin-bottom: 0em; text-align: center; font-size: 30px;border-style: solid;border-color: black;\">C. KHÁM PHÁ MỐI QUAN HỆ TRONG DỮ LIỆU</div>"
   ]
  },
  {
   "cell_type": "code",
   "execution_count": null,
   "id": "5f8ffe7a",
   "metadata": {},
   "outputs": [],
   "source": []
  }
 ],
 "metadata": {
  "kernelspec": {
   "display_name": "Python 3 (ipykernel)",
   "language": "python",
   "name": "python3"
  },
  "language_info": {
   "codemirror_mode": {
    "name": "ipython",
    "version": 3
   },
   "file_extension": ".py",
   "mimetype": "text/x-python",
   "name": "python",
   "nbconvert_exporter": "python",
   "pygments_lexer": "ipython3",
   "version": "3.10.1"
  }
 },
 "nbformat": 4,
 "nbformat_minor": 5
}
